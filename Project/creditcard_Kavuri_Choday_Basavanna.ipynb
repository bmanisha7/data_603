{
  "cells": [
    {
      "cell_type": "code",
      "execution_count": 5,
      "id": "66f80da0",
      "metadata": {
        "id": "66f80da0"
      },
      "outputs": [],
      "source": [
        "import pandas as pd                         \n",
        "import numpy as np                         \n",
        "import seaborn as sns                      \n",
        "import matplotlib.pyplot as plt            \n",
        "%matplotlib inline\n",
        "import pathlib "
      ]
    },
    {
      "cell_type": "code",
      "execution_count": 6,
      "id": "99edecd3",
      "metadata": {
        "colab": {
          "base_uri": "https://localhost:8080/"
        },
        "id": "99edecd3",
        "outputId": "9a150190-5b79-4819-9422-bf37b760aca4"
      },
      "outputs": [
        {
          "output_type": "execute_result",
          "data": {
            "text/plain": [
              "PosixPath('/content')"
            ]
          },
          "metadata": {},
          "execution_count": 6
        }
      ],
      "source": [
        "pathlib.Path().parent.absolute()"
      ]
    },
    {
      "cell_type": "code",
      "execution_count": null,
      "id": "569183ae",
      "metadata": {
        "id": "569183ae"
      },
      "outputs": [],
      "source": [
        "DfTest= pd.read_csv('fraudTest.csv')"
      ]
    },
    {
      "cell_type": "code",
      "execution_count": null,
      "id": "f57c2e6e",
      "metadata": {
        "id": "f57c2e6e"
      },
      "outputs": [],
      "source": [
        "DfTrain = pd.read_csv('fraudTrain.csv')"
      ]
    },
    {
      "cell_type": "code",
      "execution_count": null,
      "id": "05ba7535",
      "metadata": {
        "id": "05ba7535",
        "outputId": "c3dd1456-02a4-4cfc-a6fe-2896479d2553"
      },
      "outputs": [
        {
          "data": {
            "text/html": [
              "<div>\n",
              "<style scoped>\n",
              "    .dataframe tbody tr th:only-of-type {\n",
              "        vertical-align: middle;\n",
              "    }\n",
              "\n",
              "    .dataframe tbody tr th {\n",
              "        vertical-align: top;\n",
              "    }\n",
              "\n",
              "    .dataframe thead th {\n",
              "        text-align: right;\n",
              "    }\n",
              "</style>\n",
              "<table border=\"1\" class=\"dataframe\">\n",
              "  <thead>\n",
              "    <tr style=\"text-align: right;\">\n",
              "      <th></th>\n",
              "      <th>Unnamed: 0</th>\n",
              "      <th>trans_date_trans_time</th>\n",
              "      <th>cc_num</th>\n",
              "      <th>merchant</th>\n",
              "      <th>category</th>\n",
              "      <th>amt</th>\n",
              "      <th>first</th>\n",
              "      <th>last</th>\n",
              "      <th>gender</th>\n",
              "      <th>street</th>\n",
              "      <th>...</th>\n",
              "      <th>lat</th>\n",
              "      <th>long</th>\n",
              "      <th>city_pop</th>\n",
              "      <th>job</th>\n",
              "      <th>dob</th>\n",
              "      <th>trans_num</th>\n",
              "      <th>unix_time</th>\n",
              "      <th>merch_lat</th>\n",
              "      <th>merch_long</th>\n",
              "      <th>is_fraud</th>\n",
              "    </tr>\n",
              "  </thead>\n",
              "  <tbody>\n",
              "    <tr>\n",
              "      <th>0</th>\n",
              "      <td>0</td>\n",
              "      <td>2020-06-21 12:14:25</td>\n",
              "      <td>2291163933867244</td>\n",
              "      <td>fraud_Kirlin and Sons</td>\n",
              "      <td>personal_care</td>\n",
              "      <td>2.86</td>\n",
              "      <td>Jeff</td>\n",
              "      <td>Elliott</td>\n",
              "      <td>M</td>\n",
              "      <td>351 Darlene Green</td>\n",
              "      <td>...</td>\n",
              "      <td>33.9659</td>\n",
              "      <td>-80.9355</td>\n",
              "      <td>333497</td>\n",
              "      <td>Mechanical engineer</td>\n",
              "      <td>1968-03-19</td>\n",
              "      <td>2da90c7d74bd46a0caf3777415b3ebd3</td>\n",
              "      <td>1371816865</td>\n",
              "      <td>33.986391</td>\n",
              "      <td>-81.200714</td>\n",
              "      <td>0</td>\n",
              "    </tr>\n",
              "    <tr>\n",
              "      <th>1</th>\n",
              "      <td>1</td>\n",
              "      <td>2020-06-21 12:14:33</td>\n",
              "      <td>3573030041201292</td>\n",
              "      <td>fraud_Sporer-Keebler</td>\n",
              "      <td>personal_care</td>\n",
              "      <td>29.84</td>\n",
              "      <td>Joanne</td>\n",
              "      <td>Williams</td>\n",
              "      <td>F</td>\n",
              "      <td>3638 Marsh Union</td>\n",
              "      <td>...</td>\n",
              "      <td>40.3207</td>\n",
              "      <td>-110.4360</td>\n",
              "      <td>302</td>\n",
              "      <td>Sales professional, IT</td>\n",
              "      <td>1990-01-17</td>\n",
              "      <td>324cc204407e99f51b0d6ca0055005e7</td>\n",
              "      <td>1371816873</td>\n",
              "      <td>39.450498</td>\n",
              "      <td>-109.960431</td>\n",
              "      <td>0</td>\n",
              "    </tr>\n",
              "    <tr>\n",
              "      <th>2</th>\n",
              "      <td>2</td>\n",
              "      <td>2020-06-21 12:14:53</td>\n",
              "      <td>3598215285024754</td>\n",
              "      <td>fraud_Swaniawski, Nitzsche and Welch</td>\n",
              "      <td>health_fitness</td>\n",
              "      <td>41.28</td>\n",
              "      <td>Ashley</td>\n",
              "      <td>Lopez</td>\n",
              "      <td>F</td>\n",
              "      <td>9333 Valentine Point</td>\n",
              "      <td>...</td>\n",
              "      <td>40.6729</td>\n",
              "      <td>-73.5365</td>\n",
              "      <td>34496</td>\n",
              "      <td>Librarian, public</td>\n",
              "      <td>1970-10-21</td>\n",
              "      <td>c81755dbbbea9d5c77f094348a7579be</td>\n",
              "      <td>1371816893</td>\n",
              "      <td>40.495810</td>\n",
              "      <td>-74.196111</td>\n",
              "      <td>0</td>\n",
              "    </tr>\n",
              "    <tr>\n",
              "      <th>3</th>\n",
              "      <td>3</td>\n",
              "      <td>2020-06-21 12:15:15</td>\n",
              "      <td>3591919803438423</td>\n",
              "      <td>fraud_Haley Group</td>\n",
              "      <td>misc_pos</td>\n",
              "      <td>60.05</td>\n",
              "      <td>Brian</td>\n",
              "      <td>Williams</td>\n",
              "      <td>M</td>\n",
              "      <td>32941 Krystal Mill Apt. 552</td>\n",
              "      <td>...</td>\n",
              "      <td>28.5697</td>\n",
              "      <td>-80.8191</td>\n",
              "      <td>54767</td>\n",
              "      <td>Set designer</td>\n",
              "      <td>1987-07-25</td>\n",
              "      <td>2159175b9efe66dc301f149d3d5abf8c</td>\n",
              "      <td>1371816915</td>\n",
              "      <td>28.812398</td>\n",
              "      <td>-80.883061</td>\n",
              "      <td>0</td>\n",
              "    </tr>\n",
              "    <tr>\n",
              "      <th>4</th>\n",
              "      <td>4</td>\n",
              "      <td>2020-06-21 12:15:17</td>\n",
              "      <td>3526826139003047</td>\n",
              "      <td>fraud_Johnston-Casper</td>\n",
              "      <td>travel</td>\n",
              "      <td>3.19</td>\n",
              "      <td>Nathan</td>\n",
              "      <td>Massey</td>\n",
              "      <td>M</td>\n",
              "      <td>5783 Evan Roads Apt. 465</td>\n",
              "      <td>...</td>\n",
              "      <td>44.2529</td>\n",
              "      <td>-85.0170</td>\n",
              "      <td>1126</td>\n",
              "      <td>Furniture designer</td>\n",
              "      <td>1955-07-06</td>\n",
              "      <td>57ff021bd3f328f8738bb535c302a31b</td>\n",
              "      <td>1371816917</td>\n",
              "      <td>44.959148</td>\n",
              "      <td>-85.884734</td>\n",
              "      <td>0</td>\n",
              "    </tr>\n",
              "    <tr>\n",
              "      <th>...</th>\n",
              "      <td>...</td>\n",
              "      <td>...</td>\n",
              "      <td>...</td>\n",
              "      <td>...</td>\n",
              "      <td>...</td>\n",
              "      <td>...</td>\n",
              "      <td>...</td>\n",
              "      <td>...</td>\n",
              "      <td>...</td>\n",
              "      <td>...</td>\n",
              "      <td>...</td>\n",
              "      <td>...</td>\n",
              "      <td>...</td>\n",
              "      <td>...</td>\n",
              "      <td>...</td>\n",
              "      <td>...</td>\n",
              "      <td>...</td>\n",
              "      <td>...</td>\n",
              "      <td>...</td>\n",
              "      <td>...</td>\n",
              "      <td>...</td>\n",
              "    </tr>\n",
              "    <tr>\n",
              "      <th>1852389</th>\n",
              "      <td>1296670</td>\n",
              "      <td>2020-06-21 12:12:08</td>\n",
              "      <td>30263540414123</td>\n",
              "      <td>fraud_Reichel Inc</td>\n",
              "      <td>entertainment</td>\n",
              "      <td>15.56</td>\n",
              "      <td>Erik</td>\n",
              "      <td>Patterson</td>\n",
              "      <td>M</td>\n",
              "      <td>162 Jessica Row Apt. 072</td>\n",
              "      <td>...</td>\n",
              "      <td>37.7175</td>\n",
              "      <td>-112.4777</td>\n",
              "      <td>258</td>\n",
              "      <td>Geoscientist</td>\n",
              "      <td>1961-11-24</td>\n",
              "      <td>440b587732da4dc1a6395aba5fb41669</td>\n",
              "      <td>1371816728</td>\n",
              "      <td>36.841266</td>\n",
              "      <td>-111.690765</td>\n",
              "      <td>0</td>\n",
              "    </tr>\n",
              "    <tr>\n",
              "      <th>1852390</th>\n",
              "      <td>1296671</td>\n",
              "      <td>2020-06-21 12:12:19</td>\n",
              "      <td>6011149206456997</td>\n",
              "      <td>fraud_Abernathy and Sons</td>\n",
              "      <td>food_dining</td>\n",
              "      <td>51.70</td>\n",
              "      <td>Jeffrey</td>\n",
              "      <td>White</td>\n",
              "      <td>M</td>\n",
              "      <td>8617 Holmes Terrace Suite 651</td>\n",
              "      <td>...</td>\n",
              "      <td>39.2667</td>\n",
              "      <td>-77.5101</td>\n",
              "      <td>100</td>\n",
              "      <td>Production assistant, television</td>\n",
              "      <td>1979-12-11</td>\n",
              "      <td>278000d2e0d2277d1de2f890067dcc0a</td>\n",
              "      <td>1371816739</td>\n",
              "      <td>38.906881</td>\n",
              "      <td>-78.246528</td>\n",
              "      <td>0</td>\n",
              "    </tr>\n",
              "    <tr>\n",
              "      <th>1852391</th>\n",
              "      <td>1296672</td>\n",
              "      <td>2020-06-21 12:12:32</td>\n",
              "      <td>3514865930894695</td>\n",
              "      <td>fraud_Stiedemann Ltd</td>\n",
              "      <td>food_dining</td>\n",
              "      <td>105.93</td>\n",
              "      <td>Christopher</td>\n",
              "      <td>Castaneda</td>\n",
              "      <td>M</td>\n",
              "      <td>1632 Cohen Drive Suite 639</td>\n",
              "      <td>...</td>\n",
              "      <td>32.9396</td>\n",
              "      <td>-105.8189</td>\n",
              "      <td>899</td>\n",
              "      <td>Naval architect</td>\n",
              "      <td>1967-08-30</td>\n",
              "      <td>483f52fe67fabef353d552c1e662974c</td>\n",
              "      <td>1371816752</td>\n",
              "      <td>33.619513</td>\n",
              "      <td>-105.130529</td>\n",
              "      <td>0</td>\n",
              "    </tr>\n",
              "    <tr>\n",
              "      <th>1852392</th>\n",
              "      <td>1296673</td>\n",
              "      <td>2020-06-21 12:13:36</td>\n",
              "      <td>2720012583106919</td>\n",
              "      <td>fraud_Reinger, Weissnat and Strosin</td>\n",
              "      <td>food_dining</td>\n",
              "      <td>74.90</td>\n",
              "      <td>Joseph</td>\n",
              "      <td>Murray</td>\n",
              "      <td>M</td>\n",
              "      <td>42933 Ryan Underpass</td>\n",
              "      <td>...</td>\n",
              "      <td>43.3526</td>\n",
              "      <td>-102.5411</td>\n",
              "      <td>1126</td>\n",
              "      <td>Volunteer coordinator</td>\n",
              "      <td>1980-08-18</td>\n",
              "      <td>d667cdcbadaaed3da3f4020e83591c83</td>\n",
              "      <td>1371816816</td>\n",
              "      <td>42.788940</td>\n",
              "      <td>-103.241160</td>\n",
              "      <td>0</td>\n",
              "    </tr>\n",
              "    <tr>\n",
              "      <th>1852393</th>\n",
              "      <td>1296674</td>\n",
              "      <td>2020-06-21 12:13:37</td>\n",
              "      <td>4292902571056973207</td>\n",
              "      <td>fraud_Langosh, Wintheiser and Hyatt</td>\n",
              "      <td>food_dining</td>\n",
              "      <td>4.30</td>\n",
              "      <td>Jeffrey</td>\n",
              "      <td>Smith</td>\n",
              "      <td>M</td>\n",
              "      <td>135 Joseph Mountains</td>\n",
              "      <td>...</td>\n",
              "      <td>45.8433</td>\n",
              "      <td>-113.8748</td>\n",
              "      <td>218</td>\n",
              "      <td>Therapist, horticultural</td>\n",
              "      <td>1995-08-16</td>\n",
              "      <td>8f7c8e4ab7f25875d753b422917c98c9</td>\n",
              "      <td>1371816817</td>\n",
              "      <td>46.565983</td>\n",
              "      <td>-114.186110</td>\n",
              "      <td>0</td>\n",
              "    </tr>\n",
              "  </tbody>\n",
              "</table>\n",
              "<p>1852394 rows × 23 columns</p>\n",
              "</div>"
            ],
            "text/plain": [
              "         Unnamed: 0 trans_date_trans_time               cc_num  \\\n",
              "0                 0   2020-06-21 12:14:25     2291163933867244   \n",
              "1                 1   2020-06-21 12:14:33     3573030041201292   \n",
              "2                 2   2020-06-21 12:14:53     3598215285024754   \n",
              "3                 3   2020-06-21 12:15:15     3591919803438423   \n",
              "4                 4   2020-06-21 12:15:17     3526826139003047   \n",
              "...             ...                   ...                  ...   \n",
              "1852389     1296670   2020-06-21 12:12:08       30263540414123   \n",
              "1852390     1296671   2020-06-21 12:12:19     6011149206456997   \n",
              "1852391     1296672   2020-06-21 12:12:32     3514865930894695   \n",
              "1852392     1296673   2020-06-21 12:13:36     2720012583106919   \n",
              "1852393     1296674   2020-06-21 12:13:37  4292902571056973207   \n",
              "\n",
              "                                     merchant        category     amt  \\\n",
              "0                       fraud_Kirlin and Sons   personal_care    2.86   \n",
              "1                        fraud_Sporer-Keebler   personal_care   29.84   \n",
              "2        fraud_Swaniawski, Nitzsche and Welch  health_fitness   41.28   \n",
              "3                           fraud_Haley Group        misc_pos   60.05   \n",
              "4                       fraud_Johnston-Casper          travel    3.19   \n",
              "...                                       ...             ...     ...   \n",
              "1852389                     fraud_Reichel Inc   entertainment   15.56   \n",
              "1852390              fraud_Abernathy and Sons     food_dining   51.70   \n",
              "1852391                  fraud_Stiedemann Ltd     food_dining  105.93   \n",
              "1852392   fraud_Reinger, Weissnat and Strosin     food_dining   74.90   \n",
              "1852393   fraud_Langosh, Wintheiser and Hyatt     food_dining    4.30   \n",
              "\n",
              "               first       last gender                         street  ...  \\\n",
              "0               Jeff    Elliott      M              351 Darlene Green  ...   \n",
              "1             Joanne   Williams      F               3638 Marsh Union  ...   \n",
              "2             Ashley      Lopez      F           9333 Valentine Point  ...   \n",
              "3              Brian   Williams      M    32941 Krystal Mill Apt. 552  ...   \n",
              "4             Nathan     Massey      M       5783 Evan Roads Apt. 465  ...   \n",
              "...              ...        ...    ...                            ...  ...   \n",
              "1852389         Erik  Patterson      M       162 Jessica Row Apt. 072  ...   \n",
              "1852390      Jeffrey      White      M  8617 Holmes Terrace Suite 651  ...   \n",
              "1852391  Christopher  Castaneda      M     1632 Cohen Drive Suite 639  ...   \n",
              "1852392       Joseph     Murray      M           42933 Ryan Underpass  ...   \n",
              "1852393      Jeffrey      Smith      M           135 Joseph Mountains  ...   \n",
              "\n",
              "             lat      long  city_pop                               job  \\\n",
              "0        33.9659  -80.9355    333497               Mechanical engineer   \n",
              "1        40.3207 -110.4360       302            Sales professional, IT   \n",
              "2        40.6729  -73.5365     34496                 Librarian, public   \n",
              "3        28.5697  -80.8191     54767                      Set designer   \n",
              "4        44.2529  -85.0170      1126                Furniture designer   \n",
              "...          ...       ...       ...                               ...   \n",
              "1852389  37.7175 -112.4777       258                      Geoscientist   \n",
              "1852390  39.2667  -77.5101       100  Production assistant, television   \n",
              "1852391  32.9396 -105.8189       899                   Naval architect   \n",
              "1852392  43.3526 -102.5411      1126             Volunteer coordinator   \n",
              "1852393  45.8433 -113.8748       218          Therapist, horticultural   \n",
              "\n",
              "                dob                         trans_num   unix_time  merch_lat  \\\n",
              "0        1968-03-19  2da90c7d74bd46a0caf3777415b3ebd3  1371816865  33.986391   \n",
              "1        1990-01-17  324cc204407e99f51b0d6ca0055005e7  1371816873  39.450498   \n",
              "2        1970-10-21  c81755dbbbea9d5c77f094348a7579be  1371816893  40.495810   \n",
              "3        1987-07-25  2159175b9efe66dc301f149d3d5abf8c  1371816915  28.812398   \n",
              "4        1955-07-06  57ff021bd3f328f8738bb535c302a31b  1371816917  44.959148   \n",
              "...             ...                               ...         ...        ...   \n",
              "1852389  1961-11-24  440b587732da4dc1a6395aba5fb41669  1371816728  36.841266   \n",
              "1852390  1979-12-11  278000d2e0d2277d1de2f890067dcc0a  1371816739  38.906881   \n",
              "1852391  1967-08-30  483f52fe67fabef353d552c1e662974c  1371816752  33.619513   \n",
              "1852392  1980-08-18  d667cdcbadaaed3da3f4020e83591c83  1371816816  42.788940   \n",
              "1852393  1995-08-16  8f7c8e4ab7f25875d753b422917c98c9  1371816817  46.565983   \n",
              "\n",
              "         merch_long  is_fraud  \n",
              "0        -81.200714         0  \n",
              "1       -109.960431         0  \n",
              "2        -74.196111         0  \n",
              "3        -80.883061         0  \n",
              "4        -85.884734         0  \n",
              "...             ...       ...  \n",
              "1852389 -111.690765         0  \n",
              "1852390  -78.246528         0  \n",
              "1852391 -105.130529         0  \n",
              "1852392 -103.241160         0  \n",
              "1852393 -114.186110         0  \n",
              "\n",
              "[1852394 rows x 23 columns]"
            ]
          },
          "execution_count": 5,
          "metadata": {},
          "output_type": "execute_result"
        }
      ],
      "source": [
        "Dataframe = pd.merge(DfTest,DfTrain,how = 'outer')\n",
        "Dataframe"
      ]
    },
    {
      "cell_type": "code",
      "execution_count": null,
      "id": "c1916f20",
      "metadata": {
        "id": "c1916f20",
        "outputId": "c16ff90f-06cf-403a-a535-e6c3505fb7c4"
      },
      "outputs": [
        {
          "name": "stdout",
          "output_type": "stream",
          "text": [
            "Number rows and columns in a dataframe: (1852394, 23)\n",
            "dimensions of dataset: 2\n",
            "-----------------------------------------------------------------\n",
            "<class 'pandas.core.frame.DataFrame'>\n",
            "Int64Index: 1852394 entries, 0 to 1852393\n",
            "Data columns (total 23 columns):\n",
            " #   Column                 Dtype  \n",
            "---  ------                 -----  \n",
            " 0   Unnamed: 0             int64  \n",
            " 1   trans_date_trans_time  object \n",
            " 2   cc_num                 int64  \n",
            " 3   merchant               object \n",
            " 4   category               object \n",
            " 5   amt                    float64\n",
            " 6   first                  object \n",
            " 7   last                   object \n",
            " 8   gender                 object \n",
            " 9   street                 object \n",
            " 10  city                   object \n",
            " 11  state                  object \n",
            " 12  zip                    int64  \n",
            " 13  lat                    float64\n",
            " 14  long                   float64\n",
            " 15  city_pop               int64  \n",
            " 16  job                    object \n",
            " 17  dob                    object \n",
            " 18  trans_num              object \n",
            " 19  unix_time              int64  \n",
            " 20  merch_lat              float64\n",
            " 21  merch_long             float64\n",
            " 22  is_fraud               int64  \n",
            "dtypes: float64(5), int64(6), object(12)\n",
            "memory usage: 339.2+ MB\n"
          ]
        }
      ],
      "source": [
        "print(\"Number rows and columns in a dataframe:\",Dataframe.shape)\n",
        "print(\"dimensions of dataset:\",Dataframe.ndim)\n",
        "print('-----------------------------------------------------------------')\n",
        "Dataframe.info()"
      ]
    },
    {
      "cell_type": "code",
      "execution_count": null,
      "id": "9d06f925",
      "metadata": {
        "id": "9d06f925",
        "outputId": "9e1cc352-1060-4182-ebf7-a3f2c674c7d1"
      },
      "outputs": [
        {
          "data": {
            "text/plain": [
              "Unnamed: 0               0\n",
              "trans_date_trans_time    0\n",
              "cc_num                   0\n",
              "merchant                 0\n",
              "category                 0\n",
              "amt                      0\n",
              "first                    0\n",
              "last                     0\n",
              "gender                   0\n",
              "street                   0\n",
              "city                     0\n",
              "state                    0\n",
              "zip                      0\n",
              "lat                      0\n",
              "long                     0\n",
              "city_pop                 0\n",
              "job                      0\n",
              "dob                      0\n",
              "trans_num                0\n",
              "unix_time                0\n",
              "merch_lat                0\n",
              "merch_long               0\n",
              "is_fraud                 0\n",
              "dtype: int64"
            ]
          },
          "execution_count": 7,
          "metadata": {},
          "output_type": "execute_result"
        }
      ],
      "source": [
        "Nullcheck = Dataframe.isnull().sum() \n",
        "Nullcheck"
      ]
    },
    {
      "cell_type": "code",
      "execution_count": null,
      "id": "a3020c3c",
      "metadata": {
        "id": "a3020c3c"
      },
      "outputs": [],
      "source": [
        "##DELETED UNWANTED COLUMNS\n",
        "Dataframe.drop(['Unnamed: 0','street', 'lat', 'long', 'trans_num', 'unix_time', 'merch_lat', 'merch_long'], axis=1, inplace=True)\n"
      ]
    },
    {
      "cell_type": "code",
      "execution_count": null,
      "id": "f264e1dc",
      "metadata": {
        "id": "f264e1dc"
      },
      "outputs": [],
      "source": [
        "Dataframe_=Dataframe.drop_duplicates(keep='first')"
      ]
    },
    {
      "cell_type": "code",
      "execution_count": null,
      "id": "a661947c",
      "metadata": {
        "id": "a661947c",
        "outputId": "dd736c0a-6090-421a-a980-dd47b2f71379"
      },
      "outputs": [
        {
          "data": {
            "text/html": [
              "<div>\n",
              "<style scoped>\n",
              "    .dataframe tbody tr th:only-of-type {\n",
              "        vertical-align: middle;\n",
              "    }\n",
              "\n",
              "    .dataframe tbody tr th {\n",
              "        vertical-align: top;\n",
              "    }\n",
              "\n",
              "    .dataframe thead th {\n",
              "        text-align: right;\n",
              "    }\n",
              "</style>\n",
              "<table border=\"1\" class=\"dataframe\">\n",
              "  <thead>\n",
              "    <tr style=\"text-align: right;\">\n",
              "      <th></th>\n",
              "      <th>trans_date_trans_time</th>\n",
              "      <th>cc_num</th>\n",
              "      <th>merchant</th>\n",
              "      <th>category</th>\n",
              "      <th>amt</th>\n",
              "      <th>first</th>\n",
              "      <th>last</th>\n",
              "      <th>gender</th>\n",
              "      <th>city</th>\n",
              "      <th>state</th>\n",
              "      <th>zip</th>\n",
              "      <th>city_pop</th>\n",
              "      <th>job</th>\n",
              "      <th>dob</th>\n",
              "      <th>is_fraud</th>\n",
              "    </tr>\n",
              "  </thead>\n",
              "  <tbody>\n",
              "    <tr>\n",
              "      <th>0</th>\n",
              "      <td>2020-06-21 12:14:25</td>\n",
              "      <td>2291163933867244</td>\n",
              "      <td>fraud_Kirlin and Sons</td>\n",
              "      <td>personal_care</td>\n",
              "      <td>2.86</td>\n",
              "      <td>Jeff</td>\n",
              "      <td>Elliott</td>\n",
              "      <td>M</td>\n",
              "      <td>Columbia</td>\n",
              "      <td>SC</td>\n",
              "      <td>29209</td>\n",
              "      <td>333497</td>\n",
              "      <td>Mechanical engineer</td>\n",
              "      <td>1968-03-19</td>\n",
              "      <td>0</td>\n",
              "    </tr>\n",
              "    <tr>\n",
              "      <th>1</th>\n",
              "      <td>2020-06-21 12:14:33</td>\n",
              "      <td>3573030041201292</td>\n",
              "      <td>fraud_Sporer-Keebler</td>\n",
              "      <td>personal_care</td>\n",
              "      <td>29.84</td>\n",
              "      <td>Joanne</td>\n",
              "      <td>Williams</td>\n",
              "      <td>F</td>\n",
              "      <td>Altonah</td>\n",
              "      <td>UT</td>\n",
              "      <td>84002</td>\n",
              "      <td>302</td>\n",
              "      <td>Sales professional, IT</td>\n",
              "      <td>1990-01-17</td>\n",
              "      <td>0</td>\n",
              "    </tr>\n",
              "    <tr>\n",
              "      <th>2</th>\n",
              "      <td>2020-06-21 12:14:53</td>\n",
              "      <td>3598215285024754</td>\n",
              "      <td>fraud_Swaniawski, Nitzsche and Welch</td>\n",
              "      <td>health_fitness</td>\n",
              "      <td>41.28</td>\n",
              "      <td>Ashley</td>\n",
              "      <td>Lopez</td>\n",
              "      <td>F</td>\n",
              "      <td>Bellmore</td>\n",
              "      <td>NY</td>\n",
              "      <td>11710</td>\n",
              "      <td>34496</td>\n",
              "      <td>Librarian, public</td>\n",
              "      <td>1970-10-21</td>\n",
              "      <td>0</td>\n",
              "    </tr>\n",
              "    <tr>\n",
              "      <th>3</th>\n",
              "      <td>2020-06-21 12:15:15</td>\n",
              "      <td>3591919803438423</td>\n",
              "      <td>fraud_Haley Group</td>\n",
              "      <td>misc_pos</td>\n",
              "      <td>60.05</td>\n",
              "      <td>Brian</td>\n",
              "      <td>Williams</td>\n",
              "      <td>M</td>\n",
              "      <td>Titusville</td>\n",
              "      <td>FL</td>\n",
              "      <td>32780</td>\n",
              "      <td>54767</td>\n",
              "      <td>Set designer</td>\n",
              "      <td>1987-07-25</td>\n",
              "      <td>0</td>\n",
              "    </tr>\n",
              "    <tr>\n",
              "      <th>4</th>\n",
              "      <td>2020-06-21 12:15:17</td>\n",
              "      <td>3526826139003047</td>\n",
              "      <td>fraud_Johnston-Casper</td>\n",
              "      <td>travel</td>\n",
              "      <td>3.19</td>\n",
              "      <td>Nathan</td>\n",
              "      <td>Massey</td>\n",
              "      <td>M</td>\n",
              "      <td>Falmouth</td>\n",
              "      <td>MI</td>\n",
              "      <td>49632</td>\n",
              "      <td>1126</td>\n",
              "      <td>Furniture designer</td>\n",
              "      <td>1955-07-06</td>\n",
              "      <td>0</td>\n",
              "    </tr>\n",
              "    <tr>\n",
              "      <th>...</th>\n",
              "      <td>...</td>\n",
              "      <td>...</td>\n",
              "      <td>...</td>\n",
              "      <td>...</td>\n",
              "      <td>...</td>\n",
              "      <td>...</td>\n",
              "      <td>...</td>\n",
              "      <td>...</td>\n",
              "      <td>...</td>\n",
              "      <td>...</td>\n",
              "      <td>...</td>\n",
              "      <td>...</td>\n",
              "      <td>...</td>\n",
              "      <td>...</td>\n",
              "      <td>...</td>\n",
              "    </tr>\n",
              "    <tr>\n",
              "      <th>1852389</th>\n",
              "      <td>2020-06-21 12:12:08</td>\n",
              "      <td>30263540414123</td>\n",
              "      <td>fraud_Reichel Inc</td>\n",
              "      <td>entertainment</td>\n",
              "      <td>15.56</td>\n",
              "      <td>Erik</td>\n",
              "      <td>Patterson</td>\n",
              "      <td>M</td>\n",
              "      <td>Hatch</td>\n",
              "      <td>UT</td>\n",
              "      <td>84735</td>\n",
              "      <td>258</td>\n",
              "      <td>Geoscientist</td>\n",
              "      <td>1961-11-24</td>\n",
              "      <td>0</td>\n",
              "    </tr>\n",
              "    <tr>\n",
              "      <th>1852390</th>\n",
              "      <td>2020-06-21 12:12:19</td>\n",
              "      <td>6011149206456997</td>\n",
              "      <td>fraud_Abernathy and Sons</td>\n",
              "      <td>food_dining</td>\n",
              "      <td>51.70</td>\n",
              "      <td>Jeffrey</td>\n",
              "      <td>White</td>\n",
              "      <td>M</td>\n",
              "      <td>Tuscarora</td>\n",
              "      <td>MD</td>\n",
              "      <td>21790</td>\n",
              "      <td>100</td>\n",
              "      <td>Production assistant, television</td>\n",
              "      <td>1979-12-11</td>\n",
              "      <td>0</td>\n",
              "    </tr>\n",
              "    <tr>\n",
              "      <th>1852391</th>\n",
              "      <td>2020-06-21 12:12:32</td>\n",
              "      <td>3514865930894695</td>\n",
              "      <td>fraud_Stiedemann Ltd</td>\n",
              "      <td>food_dining</td>\n",
              "      <td>105.93</td>\n",
              "      <td>Christopher</td>\n",
              "      <td>Castaneda</td>\n",
              "      <td>M</td>\n",
              "      <td>High Rolls Mountain Park</td>\n",
              "      <td>NM</td>\n",
              "      <td>88325</td>\n",
              "      <td>899</td>\n",
              "      <td>Naval architect</td>\n",
              "      <td>1967-08-30</td>\n",
              "      <td>0</td>\n",
              "    </tr>\n",
              "    <tr>\n",
              "      <th>1852392</th>\n",
              "      <td>2020-06-21 12:13:36</td>\n",
              "      <td>2720012583106919</td>\n",
              "      <td>fraud_Reinger, Weissnat and Strosin</td>\n",
              "      <td>food_dining</td>\n",
              "      <td>74.90</td>\n",
              "      <td>Joseph</td>\n",
              "      <td>Murray</td>\n",
              "      <td>M</td>\n",
              "      <td>Manderson</td>\n",
              "      <td>SD</td>\n",
              "      <td>57756</td>\n",
              "      <td>1126</td>\n",
              "      <td>Volunteer coordinator</td>\n",
              "      <td>1980-08-18</td>\n",
              "      <td>0</td>\n",
              "    </tr>\n",
              "    <tr>\n",
              "      <th>1852393</th>\n",
              "      <td>2020-06-21 12:13:37</td>\n",
              "      <td>4292902571056973207</td>\n",
              "      <td>fraud_Langosh, Wintheiser and Hyatt</td>\n",
              "      <td>food_dining</td>\n",
              "      <td>4.30</td>\n",
              "      <td>Jeffrey</td>\n",
              "      <td>Smith</td>\n",
              "      <td>M</td>\n",
              "      <td>Sula</td>\n",
              "      <td>MT</td>\n",
              "      <td>59871</td>\n",
              "      <td>218</td>\n",
              "      <td>Therapist, horticultural</td>\n",
              "      <td>1995-08-16</td>\n",
              "      <td>0</td>\n",
              "    </tr>\n",
              "  </tbody>\n",
              "</table>\n",
              "<p>1852394 rows × 15 columns</p>\n",
              "</div>"
            ],
            "text/plain": [
              "        trans_date_trans_time               cc_num  \\\n",
              "0         2020-06-21 12:14:25     2291163933867244   \n",
              "1         2020-06-21 12:14:33     3573030041201292   \n",
              "2         2020-06-21 12:14:53     3598215285024754   \n",
              "3         2020-06-21 12:15:15     3591919803438423   \n",
              "4         2020-06-21 12:15:17     3526826139003047   \n",
              "...                       ...                  ...   \n",
              "1852389   2020-06-21 12:12:08       30263540414123   \n",
              "1852390   2020-06-21 12:12:19     6011149206456997   \n",
              "1852391   2020-06-21 12:12:32     3514865930894695   \n",
              "1852392   2020-06-21 12:13:36     2720012583106919   \n",
              "1852393   2020-06-21 12:13:37  4292902571056973207   \n",
              "\n",
              "                                     merchant        category     amt  \\\n",
              "0                       fraud_Kirlin and Sons   personal_care    2.86   \n",
              "1                        fraud_Sporer-Keebler   personal_care   29.84   \n",
              "2        fraud_Swaniawski, Nitzsche and Welch  health_fitness   41.28   \n",
              "3                           fraud_Haley Group        misc_pos   60.05   \n",
              "4                       fraud_Johnston-Casper          travel    3.19   \n",
              "...                                       ...             ...     ...   \n",
              "1852389                     fraud_Reichel Inc   entertainment   15.56   \n",
              "1852390              fraud_Abernathy and Sons     food_dining   51.70   \n",
              "1852391                  fraud_Stiedemann Ltd     food_dining  105.93   \n",
              "1852392   fraud_Reinger, Weissnat and Strosin     food_dining   74.90   \n",
              "1852393   fraud_Langosh, Wintheiser and Hyatt     food_dining    4.30   \n",
              "\n",
              "               first       last gender                      city state    zip  \\\n",
              "0               Jeff    Elliott      M                  Columbia    SC  29209   \n",
              "1             Joanne   Williams      F                   Altonah    UT  84002   \n",
              "2             Ashley      Lopez      F                  Bellmore    NY  11710   \n",
              "3              Brian   Williams      M                Titusville    FL  32780   \n",
              "4             Nathan     Massey      M                  Falmouth    MI  49632   \n",
              "...              ...        ...    ...                       ...   ...    ...   \n",
              "1852389         Erik  Patterson      M                     Hatch    UT  84735   \n",
              "1852390      Jeffrey      White      M                 Tuscarora    MD  21790   \n",
              "1852391  Christopher  Castaneda      M  High Rolls Mountain Park    NM  88325   \n",
              "1852392       Joseph     Murray      M                 Manderson    SD  57756   \n",
              "1852393      Jeffrey      Smith      M                      Sula    MT  59871   \n",
              "\n",
              "         city_pop                               job         dob  is_fraud  \n",
              "0          333497               Mechanical engineer  1968-03-19         0  \n",
              "1             302            Sales professional, IT  1990-01-17         0  \n",
              "2           34496                 Librarian, public  1970-10-21         0  \n",
              "3           54767                      Set designer  1987-07-25         0  \n",
              "4            1126                Furniture designer  1955-07-06         0  \n",
              "...           ...                               ...         ...       ...  \n",
              "1852389       258                      Geoscientist  1961-11-24         0  \n",
              "1852390       100  Production assistant, television  1979-12-11         0  \n",
              "1852391       899                   Naval architect  1967-08-30         0  \n",
              "1852392      1126             Volunteer coordinator  1980-08-18         0  \n",
              "1852393       218          Therapist, horticultural  1995-08-16         0  \n",
              "\n",
              "[1852394 rows x 15 columns]"
            ]
          },
          "execution_count": 10,
          "metadata": {},
          "output_type": "execute_result"
        }
      ],
      "source": [
        "Dataframe_"
      ]
    },
    {
      "cell_type": "code",
      "execution_count": null,
      "id": "82e5ff34",
      "metadata": {
        "id": "82e5ff34",
        "outputId": "44d9f60a-9e95-457a-c3a8-c5e79eacaf4a"
      },
      "outputs": [
        {
          "name": "stdout",
          "output_type": "stream",
          "text": [
            "(1852394, 15)\n",
            "(1852394, 15)\n"
          ]
        }
      ],
      "source": [
        "print(Dataframe_.shape) #After checking for duplicates\n",
        "print(Dataframe.shape) #Before checking for duplicates"
      ]
    },
    {
      "cell_type": "code",
      "execution_count": null,
      "id": "8ff7c0ec",
      "metadata": {
        "id": "8ff7c0ec",
        "outputId": "b6a43823-0456-4d9c-e5f6-674edbf74d7f"
      },
      "outputs": [
        {
          "data": {
            "text/html": [
              "<div>\n",
              "<style scoped>\n",
              "    .dataframe tbody tr th:only-of-type {\n",
              "        vertical-align: middle;\n",
              "    }\n",
              "\n",
              "    .dataframe tbody tr th {\n",
              "        vertical-align: top;\n",
              "    }\n",
              "\n",
              "    .dataframe thead th {\n",
              "        text-align: right;\n",
              "    }\n",
              "</style>\n",
              "<table border=\"1\" class=\"dataframe\">\n",
              "  <thead>\n",
              "    <tr style=\"text-align: right;\">\n",
              "      <th></th>\n",
              "      <th>cc_num</th>\n",
              "      <th>amt</th>\n",
              "      <th>zip</th>\n",
              "      <th>city_pop</th>\n",
              "      <th>is_fraud</th>\n",
              "    </tr>\n",
              "  </thead>\n",
              "  <tbody>\n",
              "    <tr>\n",
              "      <th>cc_num</th>\n",
              "      <td>1.000000</td>\n",
              "      <td>0.001826</td>\n",
              "      <td>0.041504</td>\n",
              "      <td>-0.009118</td>\n",
              "      <td>-0.001125</td>\n",
              "    </tr>\n",
              "    <tr>\n",
              "      <th>amt</th>\n",
              "      <td>0.001826</td>\n",
              "      <td>1.000000</td>\n",
              "      <td>0.001979</td>\n",
              "      <td>0.004921</td>\n",
              "      <td>0.209308</td>\n",
              "    </tr>\n",
              "    <tr>\n",
              "      <th>zip</th>\n",
              "      <td>0.041504</td>\n",
              "      <td>0.001979</td>\n",
              "      <td>1.000000</td>\n",
              "      <td>0.077601</td>\n",
              "      <td>-0.002190</td>\n",
              "    </tr>\n",
              "    <tr>\n",
              "      <th>city_pop</th>\n",
              "      <td>-0.009118</td>\n",
              "      <td>0.004921</td>\n",
              "      <td>0.077601</td>\n",
              "      <td>1.000000</td>\n",
              "      <td>0.000325</td>\n",
              "    </tr>\n",
              "    <tr>\n",
              "      <th>is_fraud</th>\n",
              "      <td>-0.001125</td>\n",
              "      <td>0.209308</td>\n",
              "      <td>-0.002190</td>\n",
              "      <td>0.000325</td>\n",
              "      <td>1.000000</td>\n",
              "    </tr>\n",
              "  </tbody>\n",
              "</table>\n",
              "</div>"
            ],
            "text/plain": [
              "            cc_num       amt       zip  city_pop  is_fraud\n",
              "cc_num    1.000000  0.001826  0.041504 -0.009118 -0.001125\n",
              "amt       0.001826  1.000000  0.001979  0.004921  0.209308\n",
              "zip       0.041504  0.001979  1.000000  0.077601 -0.002190\n",
              "city_pop -0.009118  0.004921  0.077601  1.000000  0.000325\n",
              "is_fraud -0.001125  0.209308 -0.002190  0.000325  1.000000"
            ]
          },
          "execution_count": 12,
          "metadata": {},
          "output_type": "execute_result"
        },
        {
          "data": {
            "image/png": "[encoded data removed]",
            "text/plain": [
              "<Figure size 1080x720 with 2 Axes>"
            ]
          },
          "metadata": {
            "needs_background": "light"
          },
          "output_type": "display_data"
        }
      ],
      "source": [
        "plt.figure(figsize=(15,10))\n",
        "correlation= Dataframe.corr()\n",
        "sns.heatmap(correlation,annot=True,cmap=\"YlGnBu\")\n",
        "correlation"
      ]
    },
    {
      "cell_type": "code",
      "execution_count": null,
      "id": "084ed952",
      "metadata": {
        "id": "084ed952"
      },
      "outputs": [],
      "source": [
        "Dataframe.to_csv(\"cleaned_credit.csv\")"
      ]
    },
    {
      "cell_type": "code",
      "execution_count": 1,
      "id": "307020ea",
      "metadata": {
        "colab": {
          "base_uri": "https://localhost:8080/"
        },
        "id": "307020ea",
        "outputId": "f48494da-17e8-4c47-e716-2b1b3fd641f8"
      },
      "outputs": [
        {
          "output_type": "stream",
          "name": "stdout",
          "text": [
            "Requirement already satisfied: pymongo in /usr/local/lib/python3.7/dist-packages (4.1.1)\n"
          ]
        }
      ],
      "source": [
        "!pip install pymongo\n",
        "import pymongo\n",
        "from pymongo import MongoClient\n",
        "import json \n",
        "import pandas as pd\n",
        "import warnings\n",
        "warnings.simplefilter(action='ignore', category=FutureWarning)"
      ]
    },
    {
      "cell_type": "code",
      "execution_count": null,
      "id": "c5665410",
      "metadata": {
        "id": "c5665410",
        "outputId": "39c364bc-1065-40ab-acc6-1cb8dece14e4"
      },
      "outputs": [
        {
          "name": "stdout",
          "output_type": "stream",
          "text": [
            "All the Data has been Exported to Mongo DB Server .... \n"
          ]
        }
      ],
      "source": [
        "try:\n",
        "    import pymongo\n",
        "    from pymongo import MongoClient\n",
        "    import json\n",
        "except Exception as e:\n",
        "    print(\"Some Modules are Missing \")\n",
        "\n",
        "class MongoDB(object):\n",
        "\n",
        "    def __init__(self, dBName=None, collectionName=None):\n",
        "\n",
        "        self.dBName = dBName\n",
        "        self.collectionName = collectionName\n",
        "\n",
        "        self.client = MongoClient(\"localhost\", 27017, maxPoolSize=50)\n",
        "\n",
        "        self.DB = self.client[self.dBName]\n",
        "        self.collection = self.DB[self.collectionName]\n",
        "\n",
        "\n",
        "\n",
        "    def InsertData(self, path=None):\n",
        "        \"\"\"\n",
        "        :param path: Path os csv File\n",
        "        :return: None\n",
        "        \"\"\"\n",
        "\n",
        "        df = pd.read_csv(path)\n",
        "        data = df.to_dict('records')\n",
        "\n",
        "        self.collection.insert_many(data, ordered=False)\n",
        "        print(\"All the Data has been Exported to Mongo DB Server .... \")\n",
        "\n",
        "if __name__ == \"__main__\":\n",
        "    mongodb = MongoDB(dBName = 'Credit_Card', collectionName='creditcard')\n",
        "    mongodb.InsertData(path=\"cleaned_credit.csv\")"
      ]
    },
    {
      "cell_type": "code",
      "execution_count": null,
      "id": "4bf41647",
      "metadata": {
        "id": "4bf41647"
      },
      "outputs": [],
      "source": [
        "import pyspark\n",
        "from pyspark import SparkContext \n",
        "from pyspark.sql import SparkSession\n",
        "from pyspark.sql import SQLContext"
      ]
    },
    {
      "cell_type": "code",
      "execution_count": null,
      "id": "9e0f6049",
      "metadata": {
        "id": "9e0f6049",
        "outputId": "3584e636-9498-47a3-f8be-846d1a231ea0"
      },
      "outputs": [
        {
          "name": "stdout",
          "output_type": "stream",
          "text": [
            "3.0.3\n"
          ]
        }
      ],
      "source": [
        "print(pyspark.__version__)"
      ]
    },
    {
      "cell_type": "code",
      "execution_count": null,
      "id": "05a3672d",
      "metadata": {
        "id": "05a3672d"
      },
      "outputs": [],
      "source": [
        "conf = pyspark.SparkConf().set(\"spark.jars.packages\",\n",
        "                              \"org.mongodb.spark:mongo-spark-connector_2.12:3.0.1\").setMaster(\"local\").setAppName(\"My App\").setAll([(\"spark.driver.memory\", \"12g\"), (\"spark.executor.memory\", \"12g\")])"
      ]
    },
    {
      "cell_type": "code",
      "execution_count": null,
      "id": "415f47cf",
      "metadata": {
        "id": "415f47cf"
      },
      "outputs": [],
      "source": [
        "sc = SparkContext(conf=conf)"
      ]
    },
    {
      "cell_type": "code",
      "execution_count": null,
      "id": "656028bc",
      "metadata": {
        "id": "656028bc"
      },
      "outputs": [],
      "source": [
        "sqlC = SQLContext(sc)"
      ]
    },
    {
      "cell_type": "code",
      "execution_count": null,
      "id": "9845dfc2",
      "metadata": {
        "id": "9845dfc2"
      },
      "outputs": [],
      "source": [
        "mongo_ip = \"mongodb://localhost:27017/Credit_Card.\""
      ]
    },
    {
      "cell_type": "code",
      "execution_count": null,
      "id": "34de4c57",
      "metadata": {
        "id": "34de4c57",
        "outputId": "e4fba8ce-c71f-4b03-88c4-a9e2b1963217"
      },
      "outputs": [
        {
          "name": "stdout",
          "output_type": "stream",
          "text": [
            "mongodb://localhost:27017/Credit_Card.\n"
          ]
        }
      ],
      "source": [
        "print(mongo_ip)"
      ]
    },
    {
      "cell_type": "code",
      "execution_count": null,
      "id": "0b53c7a3",
      "metadata": {
        "id": "0b53c7a3"
      },
      "outputs": [],
      "source": [
        "fraud= sqlC.read.format(\"com.mongodb.spark.sql.DefaultSource\").option(\"uri\", mongo_ip + \"creditcard\").load()"
      ]
    },
    {
      "cell_type": "code",
      "execution_count": null,
      "id": "8d204cda",
      "metadata": {
        "id": "8d204cda"
      },
      "outputs": [],
      "source": [
        "fraud.createOrReplaceTempView(\"fraud\")"
      ]
    },
    {
      "cell_type": "code",
      "execution_count": null,
      "id": "42492c20",
      "metadata": {
        "id": "42492c20"
      },
      "outputs": [],
      "source": [
        "fraud = sqlC.sql(\"SELECT * FROM fraud\")"
      ]
    },
    {
      "cell_type": "code",
      "execution_count": null,
      "id": "5dca9ae2",
      "metadata": {
        "id": "5dca9ae2",
        "outputId": "57e7236b-548e-4eec-d621-d2a2fa1d7c72"
      },
      "outputs": [
        {
          "name": "stdout",
          "output_type": "stream",
          "text": [
            "+----------+--------------------+-----+--------------+----------------+----------+--------+----------+------+------+--------+--------------------+--------+--------------------+-----+---------------------+-----+\n",
            "|Unnamed: 0|                 _id|  amt|      category|          cc_num|      city|city_pop|       dob| first|gender|is_fraud|                 job|    last|            merchant|state|trans_date_trans_time|  zip|\n",
            "+----------+--------------------+-----+--------------+----------------+----------+--------+----------+------+------+--------+--------------------+--------+--------------------+-----+---------------------+-----+\n",
            "|         0|[627ef1177b802642...| 2.86| personal_care|2291163933867244|  Columbia|  333497|1968-03-19|  Jeff|     M|       0| Mechanical engineer| Elliott|fraud_Kirlin and ...|   SC|  2020-06-21 12:14:25|29209|\n",
            "|         1|[627ef1177b802642...|29.84| personal_care|3573030041201292|   Altonah|     302|1990-01-17|Joanne|     F|       0|Sales professiona...|Williams|fraud_Sporer-Keebler|   UT|  2020-06-21 12:14:33|84002|\n",
            "|         2|[627ef1177b802642...|41.28|health_fitness|3598215285024754|  Bellmore|   34496|1970-10-21|Ashley|     F|       0|   Librarian, public|   Lopez|fraud_Swaniawski,...|   NY|  2020-06-21 12:14:53|11710|\n",
            "|         3|[627ef1177b802642...|60.05|      misc_pos|3591919803438423|Titusville|   54767|1987-07-25| Brian|     M|       0|        Set designer|Williams|   fraud_Haley Group|   FL|  2020-06-21 12:15:15|32780|\n",
            "|         4|[627ef1177b802642...| 3.19|        travel|3526826139003047|  Falmouth|    1126|1955-07-06|Nathan|     M|       0|  Furniture designer|  Massey|fraud_Johnston-Ca...|   MI|  2020-06-21 12:15:17|49632|\n",
            "+----------+--------------------+-----+--------------+----------------+----------+--------+----------+------+------+--------+--------------------+--------+--------------------+-----+---------------------+-----+\n",
            "only showing top 5 rows\n",
            "\n"
          ]
        }
      ],
      "source": [
        "fraud.show(5)"
      ]
    },
    {
      "cell_type": "code",
      "execution_count": 3,
      "id": "be52475a",
      "metadata": {
        "colab": {
          "base_uri": "https://localhost:8080/"
        },
        "id": "be52475a",
        "outputId": "233c0c8f-f2ca-461d-ef22-743ff5a115e0"
      },
      "outputs": [
        {
          "output_type": "stream",
          "name": "stdout",
          "text": [
            "Requirement already satisfied: pyspark in /usr/local/lib/python3.7/dist-packages (3.2.1)\n",
            "Requirement already satisfied: py4j==0.10.9.3 in /usr/local/lib/python3.7/dist-packages (from pyspark) (0.10.9.3)\n"
          ]
        }
      ],
      "source": [
        "!pip install pyspark"
      ]
    },
    {
      "cell_type": "code",
      "execution_count": null,
      "id": "437f2f09",
      "metadata": {
        "id": "437f2f09"
      },
      "outputs": [],
      "source": [
        "import os\n",
        "from pyspark import SparkConf, SparkContext\n",
        "import pyspark\n",
        "import matplotlib.pyplot as plt\n",
        "from pyspark.sql import SparkSession\n",
        "import numpy as np\n",
        "import pandas as pd\n",
        "from datetime import datetime as dt\n",
        "from time import time\n",
        "import math\n",
        "import seaborn as sns\n",
        "import sys\n",
        "%matplotlib inline \n",
        "from pyspark.sql.functions import isnan, when, count, col\n",
        "from pyspark.sql.functions import udf\n",
        "import pyspark.sql.functions as F"
      ]
    },
    {
      "cell_type": "code",
      "execution_count": null,
      "id": "002e7de3",
      "metadata": {
        "id": "002e7de3"
      },
      "outputs": [],
      "source": [
        "spark = SparkSession.builder.appName(\"PredictionApp\").getOrCreate()"
      ]
    },
    {
      "cell_type": "code",
      "execution_count": null,
      "id": "e14158dc",
      "metadata": {
        "id": "e14158dc",
        "outputId": "1435322b-d509-497e-90cb-10d87cd1be5b"
      },
      "outputs": [
        {
          "name": "stdout",
          "output_type": "stream",
          "text": [
            "root\n",
            " |-- Unnamed: 0: integer (nullable = true)\n",
            " |-- _id: struct (nullable = true)\n",
            " |    |-- oid: string (nullable = true)\n",
            " |-- amt: double (nullable = true)\n",
            " |-- category: string (nullable = true)\n",
            " |-- cc_num: long (nullable = true)\n",
            " |-- city: string (nullable = true)\n",
            " |-- city_pop: integer (nullable = true)\n",
            " |-- dob: string (nullable = true)\n",
            " |-- first: string (nullable = true)\n",
            " |-- gender: string (nullable = true)\n",
            " |-- is_fraud: integer (nullable = true)\n",
            " |-- job: string (nullable = true)\n",
            " |-- last: string (nullable = true)\n",
            " |-- merchant: string (nullable = true)\n",
            " |-- state: string (nullable = true)\n",
            " |-- trans_date_trans_time: string (nullable = true)\n",
            " |-- zip: integer (nullable = true)\n",
            "\n"
          ]
        }
      ],
      "source": [
        "fraud.printSchema()"
      ]
    },
    {
      "cell_type": "code",
      "execution_count": null,
      "id": "18197701",
      "metadata": {
        "id": "18197701"
      },
      "outputs": [],
      "source": [
        "fraud = fraud.drop(\"Unnamed: 0\",\"_id\",\"oid\")"
      ]
    },
    {
      "cell_type": "code",
      "execution_count": null,
      "id": "49c53bc3",
      "metadata": {
        "id": "49c53bc3"
      },
      "outputs": [],
      "source": [
        "fraud=fraud.drop_duplicates()"
      ]
    },
    {
      "cell_type": "code",
      "execution_count": null,
      "id": "00bfadac",
      "metadata": {
        "id": "00bfadac",
        "outputId": "e0d8270b-0606-408d-c015-1a385cb3b72c"
      },
      "outputs": [
        {
          "data": {
            "text/plain": [
              "DataFrame[amt: double, category: string, city: string, is_fraud: int, job: string, merchant: string, state: string, trans_date_trans_time: string, zip: int]"
            ]
          },
          "execution_count": 80,
          "metadata": {},
          "output_type": "execute_result"
        }
      ],
      "source": [
        "fraud"
      ]
    },
    {
      "cell_type": "markdown",
      "id": "0e55fab1",
      "metadata": {
        "id": "0e55fab1"
      },
      "source": [
        "## Exploratory Data Analysis(EDA)"
      ]
    },
    {
      "cell_type": "code",
      "execution_count": null,
      "id": "ecefa28a",
      "metadata": {
        "id": "ecefa28a"
      },
      "outputs": [],
      "source": [
        "def amountcategory(amt):\n",
        "    if (amt < 1000):\n",
        "        return \"under 1000\"\n",
        "    elif (amt >= 1000 and amt <= 5000):\n",
        "        return \"Between 500 and 1500\"\n",
        "    elif (amt > 5000 and amt > 10000):\n",
        "        return \"Between 5000 and 10000\"\n",
        "    elif (amt >= 10000 and amt<=15000):\n",
        "        return \"Between 10000 and 15000\"\n",
        "    else: \n",
        "        return \"Above 15000\""
      ]
    },
    {
      "cell_type": "code",
      "execution_count": null,
      "id": "cf2ac1fc",
      "metadata": {
        "id": "cf2ac1fc"
      },
      "outputs": [],
      "source": [
        "amount = udf(amountcategory)\n",
        "fraud = fraud.withColumn('Category of transaction amount', amount('amt'))"
      ]
    },
    {
      "cell_type": "code",
      "execution_count": null,
      "id": "f17dcb44",
      "metadata": {
        "id": "f17dcb44",
        "outputId": "f1efe0b3-8ea1-4326-8975-11934ca19afd"
      },
      "outputs": [
        {
          "name": "stdout",
          "output_type": "stream",
          "text": [
            "-RECORD 0--------------------------------------------------\n",
            " amt                            | 109.88                   \n",
            " category                       | home                     \n",
            " city                           | Sacramento               \n",
            " is_fraud                       | 0                        \n",
            " job                            | Magazine features editor \n",
            " merchant                       | fraud_Champlin-Casper    \n",
            " state                          | CA                       \n",
            " trans_date_trans_time          | 2020-06-21 15:23:33      \n",
            " zip                            | 95827                    \n",
            " Category of transaction amount | under 1000               \n",
            "only showing top 1 row\n",
            "\n"
          ]
        }
      ],
      "source": [
        "fraud.show(n=1 , truncate=False, vertical=True)"
      ]
    },
    {
      "cell_type": "code",
      "execution_count": null,
      "id": "bc8616a1",
      "metadata": {
        "scrolled": true,
        "id": "bc8616a1",
        "outputId": "9bece7bd-a359-4746-e594-940ecc48a9f7"
      },
      "outputs": [
        {
          "name": "stdout",
          "output_type": "stream",
          "text": [
            "+------+---------+-----------+--------+--------------------+--------------------+-----+---------------------+-----+------------------------------+\n",
            "|   amt| category|       city|is_fraud|                 job|            merchant|state|trans_date_trans_time|  zip|Category of transaction amount|\n",
            "+------+---------+-----------+--------+--------------------+--------------------+-----+---------------------+-----+------------------------------+\n",
            "|109.88|     home| Sacramento|       0|Magazine features...|fraud_Champlin-Ca...|   CA|  2020-06-21 15:23:33|95827|                    under 1000|\n",
            "| 40.63|kids_pets|East Canaan|       0|         Comptroller|fraud_Goyette-Ger...|   CT|  2020-06-21 15:24:02| 6024|                    under 1000|\n",
            "|  2.96|   travel|  Jefferson|       0|Diagnostic radiog...|fraud_Gislason Group|   NY|  2020-06-21 19:16:23|12093|                    under 1000|\n",
            "+------+---------+-----------+--------+--------------------+--------------------+-----+---------------------+-----+------------------------------+\n",
            "only showing top 3 rows\n",
            "\n"
          ]
        }
      ],
      "source": [
        "fraud.show(3)"
      ]
    },
    {
      "cell_type": "code",
      "execution_count": null,
      "id": "4db73329",
      "metadata": {
        "scrolled": true,
        "id": "4db73329"
      },
      "outputs": [],
      "source": [
        "fraud = fraud.drop(\"Unnamed: 0\",\"_id\")"
      ]
    },
    {
      "cell_type": "code",
      "execution_count": null,
      "id": "a439bfae",
      "metadata": {
        "id": "a439bfae",
        "outputId": "c7648bec-2c9e-4cce-e5f5-3af95dae412c"
      },
      "outputs": [
        {
          "name": "stdout",
          "output_type": "stream",
          "text": [
            "+------+---------+-----------+--------+--------------------+--------------------+-----+---------------------+-----+------------------------------+\n",
            "|   amt| category|       city|is_fraud|                 job|            merchant|state|trans_date_trans_time|  zip|Category of transaction amount|\n",
            "+------+---------+-----------+--------+--------------------+--------------------+-----+---------------------+-----+------------------------------+\n",
            "|109.88|     home| Sacramento|       0|Magazine features...|fraud_Champlin-Ca...|   CA|  2020-06-21 15:23:33|95827|                    under 1000|\n",
            "| 40.63|kids_pets|East Canaan|       0|         Comptroller|fraud_Goyette-Ger...|   CT|  2020-06-21 15:24:02| 6024|                    under 1000|\n",
            "+------+---------+-----------+--------+--------------------+--------------------+-----+---------------------+-----+------------------------------+\n",
            "only showing top 2 rows\n",
            "\n"
          ]
        }
      ],
      "source": [
        "fraud.show(2)"
      ]
    },
    {
      "cell_type": "code",
      "execution_count": null,
      "id": "2ce94805",
      "metadata": {
        "id": "2ce94805",
        "outputId": "832a6588-81d2-4bad-b25c-5c015162c870"
      },
      "outputs": [
        {
          "data": {
            "text/plain": [
              "926016"
            ]
          },
          "execution_count": 87,
          "metadata": {},
          "output_type": "execute_result"
        }
      ],
      "source": [
        "#cutting the data set so that pandas can be used for visusalization\n",
        "fraud.sample(False, 0.5, 42).count()"
      ]
    },
    {
      "cell_type": "markdown",
      "id": "aab48e42",
      "metadata": {
        "id": "aab48e42"
      },
      "source": [
        "# How many fraudulent transactions are there?\n"
      ]
    },
    {
      "cell_type": "code",
      "execution_count": null,
      "id": "0af3fcc7",
      "metadata": {
        "id": "0af3fcc7",
        "outputId": "e64790b2-ec9a-4bc9-8d3e-97ae871ae7fd"
      },
      "outputs": [
        {
          "name": "stdout",
          "output_type": "stream",
          "text": [
            "+--------+-------+\n",
            "|is_fraud|  count|\n",
            "+--------+-------+\n",
            "|       1|   9651|\n",
            "|       0|1842743|\n",
            "+--------+-------+\n",
            "\n"
          ]
        }
      ],
      "source": [
        "fraud.groupby('is_fraud').count().show()"
      ]
    },
    {
      "cell_type": "markdown",
      "id": "279b737a",
      "metadata": {
        "id": "279b737a"
      },
      "source": [
        "1 is count of fraud transactions and 0 is count of non fraudlent transactions"
      ]
    },
    {
      "cell_type": "code",
      "execution_count": null,
      "id": "3672e01a",
      "metadata": {
        "id": "3672e01a"
      },
      "outputs": [],
      "source": [
        "#created a datafreame for only fraud transactions data\n",
        "Fraud_df = fraud.filter(fraud.is_fraud == '1')"
      ]
    },
    {
      "cell_type": "markdown",
      "id": "3cc7481a",
      "metadata": {
        "id": "3cc7481a"
      },
      "source": [
        "# What is the severity of the fraud transaction?\n"
      ]
    },
    {
      "cell_type": "code",
      "execution_count": null,
      "id": "5fb13d97",
      "metadata": {
        "id": "5fb13d97"
      },
      "outputs": [],
      "source": [
        "dist_df = Fraud_df.select(['amt'])"
      ]
    },
    {
      "cell_type": "code",
      "execution_count": null,
      "id": "a0d50f61",
      "metadata": {
        "id": "a0d50f61",
        "outputId": "2b380b13-0a7c-4880-f4df-0ab30034416a"
      },
      "outputs": [
        {
          "data": {
            "text/plain": [
              "<AxesSubplot:ylabel='Density'>"
            ]
          },
          "execution_count": 105,
          "metadata": {},
          "output_type": "execute_result"
        },
        {
          "data": {
            "image/png": "[encoded data removed]",
            "text/plain": [
              "<Figure size 432x288 with 1 Axes>"
            ]
          },
          "metadata": {
            "needs_background": "light"
          },
          "output_type": "display_data"
        }
      ],
      "source": [
        "#converting dist df to pandas df\n",
        "pandas_df = dist_df.toPandas()\n",
        "sns.distplot(pandas_df)"
      ]
    },
    {
      "cell_type": "markdown",
      "id": "23f3fbeb",
      "metadata": {
        "id": "23f3fbeb"
      },
      "source": [
        "# How frequently do fraud transactions occur?\n"
      ]
    },
    {
      "cell_type": "code",
      "execution_count": null,
      "id": "710e720c",
      "metadata": {
        "id": "710e720c"
      },
      "outputs": [],
      "source": [
        "#created a data frame for converting 'trans_date_trans_time' column string to date\n",
        "from pyspark.sql.types import DateType\n",
        "df_date = Fraud_df.withColumn('date',Fraud_df['trans_date_trans_time'].cast(DateType()))\n"
      ]
    },
    {
      "cell_type": "code",
      "execution_count": null,
      "id": "80686793",
      "metadata": {
        "id": "80686793",
        "outputId": "87471a4b-8c1e-4f1e-e2c8-633dcaf975d6"
      },
      "outputs": [
        {
          "name": "stdout",
          "output_type": "stream",
          "text": [
            "root\n",
            " |-- amt: double (nullable = true)\n",
            " |-- category: string (nullable = true)\n",
            " |-- city: string (nullable = true)\n",
            " |-- is_fraud: integer (nullable = true)\n",
            " |-- job: string (nullable = true)\n",
            " |-- merchant: string (nullable = true)\n",
            " |-- state: string (nullable = true)\n",
            " |-- trans_date_trans_time: string (nullable = true)\n",
            " |-- zip: integer (nullable = true)\n",
            " |-- Category of transaction amount: string (nullable = true)\n",
            " |-- date: date (nullable = true)\n",
            "\n"
          ]
        }
      ],
      "source": [
        "df_date.printSchema()"
      ]
    },
    {
      "cell_type": "code",
      "execution_count": null,
      "id": "805d3fd0",
      "metadata": {
        "id": "805d3fd0",
        "outputId": "0e6f8c34-928e-4fbe-dd39-743ff554cec4"
      },
      "outputs": [
        {
          "name": "stdout",
          "output_type": "stream",
          "text": [
            "+-------+--------------+--------------+--------+--------------------+--------------------+-----+---------------------+-----+------------------------------+----------+\n",
            "|    amt|      category|          city|is_fraud|                 job|            merchant|state|trans_date_trans_time|  zip|Category of transaction amount|      date|\n",
            "+-------+--------------+--------------+--------+--------------------+--------------------+-----+---------------------+-----+------------------------------+----------+\n",
            "|1128.26|  shopping_net|Denham Springs|       1|           Herbalist|     fraud_Kuhic LLC|   LA|  2020-06-21 23:21:44|70726|          Between 500 and 1500|2020-06-21|\n",
            "| 576.18| entertainment|           Jay|       1|Higher education ...|   fraud_Reichel Inc|   FL|  2020-08-04 01:00:08|32565|                    under 1000|2020-08-04|\n",
            "|  10.51|        travel|     Cottekill|       1|         Comptroller|fraud_McLaughlin,...|   NY|  2020-09-05 22:09:49|12419|                    under 1000|2020-09-05|\n",
            "| 869.31|      misc_net|       Zavalla|       1| Designer, jewellery|   fraud_Mante Group|   TX|  2020-09-10 02:59:08|75980|                    under 1000|2020-09-10|\n",
            "| 302.22|   grocery_pos|West Henrietta|       1|Teacher, primary ...|fraud_Heller, Gut...|   NY|  2020-09-12 02:58:20|14586|                    under 1000|2020-09-12|\n",
            "|1064.72|  shopping_pos|      Kirkwood|       1|Advertising accou...|  fraud_Hickle Group|   NY|  2020-09-24 22:43:25|13795|          Between 500 and 1500|2020-09-24|\n",
            "|   9.45| gas_transport|       Arcadia|       1| Animal technologist|fraud_Heller-Langosh|   SC|  2020-10-11 00:18:36|29320|                    under 1000|2020-10-11|\n",
            "|  312.5|   grocery_pos|        Camden|       1| Colour technologist|fraud_Kovacek, Di...|   TX|  2020-10-15 23:45:07|75934|                    under 1000|2020-10-15|\n",
            "|1009.26|  shopping_net|     Goreville|       1|Teacher, secondar...|     fraud_Auer-West|   IL|  2020-10-25 23:54:05|62939|          Between 500 and 1500|2020-10-25|\n",
            "| 881.12|  shopping_net|         Craig|       1|Commissioning editor|fraud_Towne, Gree...|   AK|  2020-12-03 23:11:27|99921|                    under 1000|2020-12-03|\n",
            "| 214.51|          home|         Coyle|       1|Amenity horticult...|fraud_Gaylord-Pow...|   OK|  2020-12-12 23:51:56|73027|                    under 1000|2020-12-12|\n",
            "|  19.86|health_fitness|         Coyle|       1|Amenity horticult...| fraud_Adams-Barrows|   OK|  2020-12-13 23:47:56|73027|                    under 1000|2020-12-13|\n",
            "| 358.24|   grocery_pos|   Heart Butte|       1|      Water engineer|fraud_Murray-Smitham|   MT|  2020-12-21 02:21:41|59448|                    under 1000|2020-12-21|\n",
            "| 944.46|  shopping_net| Edisto Island|       1|Sales professiona...|fraud_Labadie, Tr...|   SC|  2019-01-19 23:40:00|29438|                    under 1000|2019-01-19|\n",
            "|   8.94|      misc_pos|        Warren|       1|Magazine features...|fraud_Williamson LLC|   OH|  2019-01-31 16:17:48|44483|                    under 1000|2019-01-31|\n",
            "|1015.74|  shopping_net|    Queenstown|       1|Maintenance engineer|fraud_Greenholt, ...|   MD|  2019-03-03 23:57:54|21658|          Between 500 and 1500|2019-03-03|\n",
            "|1126.12|  shopping_net|       Ozawkie|       1|    Theatre director|     fraud_Kuhic LLC|   KS|  2019-03-08 23:19:44|66070|          Between 500 and 1500|2019-03-08|\n",
            "|  770.8|      misc_net|        Hedley|       1| Early years teacher|fraud_Koelpin and...|   TX|  2019-03-09 00:31:31|79237|                    under 1000|2019-03-09|\n",
            "| 339.45|   grocery_pos|Minnesota Lake|       1|         Music tutor|   fraud_Bradtke PLC|   MN|  2019-03-22 00:23:21|56068|                    under 1000|2019-03-22|\n",
            "|  21.71| gas_transport|        Sardis|       1|Learning disabili...|   fraud_Schmitt Inc|   AL|  2019-04-12 09:13:39|36775|                    under 1000|2019-04-12|\n",
            "+-------+--------------+--------------+--------+--------------------+--------------------+-----+---------------------+-----+------------------------------+----------+\n",
            "only showing top 20 rows\n",
            "\n"
          ]
        }
      ],
      "source": [
        "df_date.show()"
      ]
    },
    {
      "cell_type": "code",
      "execution_count": null,
      "id": "5c990c10",
      "metadata": {
        "id": "5c990c10",
        "outputId": "f908a57a-1e71-49ac-a166-d739c54e424f"
      },
      "outputs": [
        {
          "name": "stdout",
          "output_type": "stream",
          "text": [
            "+-------+--------------+--------------+--------+--------------------+--------------------+-----+---------------------+-----+------------------------------+----+\n",
            "|    amt|      category|          city|is_fraud|                 job|            merchant|state|trans_date_trans_time|  zip|Category of transaction amount|date|\n",
            "+-------+--------------+--------------+--------+--------------------+--------------------+-----+---------------------+-----+------------------------------+----+\n",
            "|1128.26|  shopping_net|Denham Springs|       1|           Herbalist|     fraud_Kuhic LLC|   LA|  2020-06-21 23:21:44|70726|          Between 500 and 1500|2020|\n",
            "| 576.18| entertainment|           Jay|       1|Higher education ...|   fraud_Reichel Inc|   FL|  2020-08-04 01:00:08|32565|                    under 1000|2020|\n",
            "|  10.51|        travel|     Cottekill|       1|         Comptroller|fraud_McLaughlin,...|   NY|  2020-09-05 22:09:49|12419|                    under 1000|2020|\n",
            "| 869.31|      misc_net|       Zavalla|       1| Designer, jewellery|   fraud_Mante Group|   TX|  2020-09-10 02:59:08|75980|                    under 1000|2020|\n",
            "| 302.22|   grocery_pos|West Henrietta|       1|Teacher, primary ...|fraud_Heller, Gut...|   NY|  2020-09-12 02:58:20|14586|                    under 1000|2020|\n",
            "|1064.72|  shopping_pos|      Kirkwood|       1|Advertising accou...|  fraud_Hickle Group|   NY|  2020-09-24 22:43:25|13795|          Between 500 and 1500|2020|\n",
            "|   9.45| gas_transport|       Arcadia|       1| Animal technologist|fraud_Heller-Langosh|   SC|  2020-10-11 00:18:36|29320|                    under 1000|2020|\n",
            "|  312.5|   grocery_pos|        Camden|       1| Colour technologist|fraud_Kovacek, Di...|   TX|  2020-10-15 23:45:07|75934|                    under 1000|2020|\n",
            "|1009.26|  shopping_net|     Goreville|       1|Teacher, secondar...|     fraud_Auer-West|   IL|  2020-10-25 23:54:05|62939|          Between 500 and 1500|2020|\n",
            "| 881.12|  shopping_net|         Craig|       1|Commissioning editor|fraud_Towne, Gree...|   AK|  2020-12-03 23:11:27|99921|                    under 1000|2020|\n",
            "| 214.51|          home|         Coyle|       1|Amenity horticult...|fraud_Gaylord-Pow...|   OK|  2020-12-12 23:51:56|73027|                    under 1000|2020|\n",
            "|  19.86|health_fitness|         Coyle|       1|Amenity horticult...| fraud_Adams-Barrows|   OK|  2020-12-13 23:47:56|73027|                    under 1000|2020|\n",
            "| 358.24|   grocery_pos|   Heart Butte|       1|      Water engineer|fraud_Murray-Smitham|   MT|  2020-12-21 02:21:41|59448|                    under 1000|2020|\n",
            "| 944.46|  shopping_net| Edisto Island|       1|Sales professiona...|fraud_Labadie, Tr...|   SC|  2019-01-19 23:40:00|29438|                    under 1000|2019|\n",
            "|   8.94|      misc_pos|        Warren|       1|Magazine features...|fraud_Williamson LLC|   OH|  2019-01-31 16:17:48|44483|                    under 1000|2019|\n",
            "|1015.74|  shopping_net|    Queenstown|       1|Maintenance engineer|fraud_Greenholt, ...|   MD|  2019-03-03 23:57:54|21658|          Between 500 and 1500|2019|\n",
            "|1126.12|  shopping_net|       Ozawkie|       1|    Theatre director|     fraud_Kuhic LLC|   KS|  2019-03-08 23:19:44|66070|          Between 500 and 1500|2019|\n",
            "|  770.8|      misc_net|        Hedley|       1| Early years teacher|fraud_Koelpin and...|   TX|  2019-03-09 00:31:31|79237|                    under 1000|2019|\n",
            "| 339.45|   grocery_pos|Minnesota Lake|       1|         Music tutor|   fraud_Bradtke PLC|   MN|  2019-03-22 00:23:21|56068|                    under 1000|2019|\n",
            "|  21.71| gas_transport|        Sardis|       1|Learning disabili...|   fraud_Schmitt Inc|   AL|  2019-04-12 09:13:39|36775|                    under 1000|2019|\n",
            "+-------+--------------+--------------+--------+--------------------+--------------------+-----+---------------------+-----+------------------------------+----+\n",
            "only showing top 20 rows\n",
            "\n"
          ]
        }
      ],
      "source": [
        "### Get Year from date \n",
        " \n",
        "from pyspark.sql.functions import year\n",
        "from pyspark.sql.functions import to_date\n",
        " \n",
        "df_year = df_date.withColumn('date',year(df_date.date))\n",
        "df_year.show()"
      ]
    },
    {
      "cell_type": "code",
      "execution_count": null,
      "id": "64c0a25f",
      "metadata": {
        "id": "64c0a25f",
        "outputId": "15fa1c19-24ec-4d7e-8cc5-7218e3b80ef3"
      },
      "outputs": [
        {
          "name": "stdout",
          "output_type": "stream",
          "text": [
            "+-------+--------------+--------------+--------+--------------------+--------------------+-----+---------------------+-----+------------------------------+----+\n",
            "|    amt|      category|          city|is_fraud|                 job|            merchant|state|trans_date_trans_time|  zip|Category of transaction amount|date|\n",
            "+-------+--------------+--------------+--------+--------------------+--------------------+-----+---------------------+-----+------------------------------+----+\n",
            "|1128.26|  shopping_net|Denham Springs|       1|           Herbalist|     fraud_Kuhic LLC|   LA|  2020-06-21 23:21:44|70726|          Between 500 and 1500|   6|\n",
            "| 576.18| entertainment|           Jay|       1|Higher education ...|   fraud_Reichel Inc|   FL|  2020-08-04 01:00:08|32565|                    under 1000|   8|\n",
            "|  10.51|        travel|     Cottekill|       1|         Comptroller|fraud_McLaughlin,...|   NY|  2020-09-05 22:09:49|12419|                    under 1000|   9|\n",
            "| 869.31|      misc_net|       Zavalla|       1| Designer, jewellery|   fraud_Mante Group|   TX|  2020-09-10 02:59:08|75980|                    under 1000|   9|\n",
            "| 302.22|   grocery_pos|West Henrietta|       1|Teacher, primary ...|fraud_Heller, Gut...|   NY|  2020-09-12 02:58:20|14586|                    under 1000|   9|\n",
            "|1064.72|  shopping_pos|      Kirkwood|       1|Advertising accou...|  fraud_Hickle Group|   NY|  2020-09-24 22:43:25|13795|          Between 500 and 1500|   9|\n",
            "|   9.45| gas_transport|       Arcadia|       1| Animal technologist|fraud_Heller-Langosh|   SC|  2020-10-11 00:18:36|29320|                    under 1000|  10|\n",
            "|  312.5|   grocery_pos|        Camden|       1| Colour technologist|fraud_Kovacek, Di...|   TX|  2020-10-15 23:45:07|75934|                    under 1000|  10|\n",
            "|1009.26|  shopping_net|     Goreville|       1|Teacher, secondar...|     fraud_Auer-West|   IL|  2020-10-25 23:54:05|62939|          Between 500 and 1500|  10|\n",
            "| 881.12|  shopping_net|         Craig|       1|Commissioning editor|fraud_Towne, Gree...|   AK|  2020-12-03 23:11:27|99921|                    under 1000|  12|\n",
            "| 214.51|          home|         Coyle|       1|Amenity horticult...|fraud_Gaylord-Pow...|   OK|  2020-12-12 23:51:56|73027|                    under 1000|  12|\n",
            "|  19.86|health_fitness|         Coyle|       1|Amenity horticult...| fraud_Adams-Barrows|   OK|  2020-12-13 23:47:56|73027|                    under 1000|  12|\n",
            "| 358.24|   grocery_pos|   Heart Butte|       1|      Water engineer|fraud_Murray-Smitham|   MT|  2020-12-21 02:21:41|59448|                    under 1000|  12|\n",
            "| 944.46|  shopping_net| Edisto Island|       1|Sales professiona...|fraud_Labadie, Tr...|   SC|  2019-01-19 23:40:00|29438|                    under 1000|   1|\n",
            "|   8.94|      misc_pos|        Warren|       1|Magazine features...|fraud_Williamson LLC|   OH|  2019-01-31 16:17:48|44483|                    under 1000|   1|\n",
            "|1015.74|  shopping_net|    Queenstown|       1|Maintenance engineer|fraud_Greenholt, ...|   MD|  2019-03-03 23:57:54|21658|          Between 500 and 1500|   3|\n",
            "|1126.12|  shopping_net|       Ozawkie|       1|    Theatre director|     fraud_Kuhic LLC|   KS|  2019-03-08 23:19:44|66070|          Between 500 and 1500|   3|\n",
            "|  770.8|      misc_net|        Hedley|       1| Early years teacher|fraud_Koelpin and...|   TX|  2019-03-09 00:31:31|79237|                    under 1000|   3|\n",
            "| 339.45|   grocery_pos|Minnesota Lake|       1|         Music tutor|   fraud_Bradtke PLC|   MN|  2019-03-22 00:23:21|56068|                    under 1000|   3|\n",
            "|  21.71| gas_transport|        Sardis|       1|Learning disabili...|   fraud_Schmitt Inc|   AL|  2019-04-12 09:13:39|36775|                    under 1000|   4|\n",
            "+-------+--------------+--------------+--------+--------------------+--------------------+-----+---------------------+-----+------------------------------+----+\n",
            "only showing top 20 rows\n",
            "\n"
          ]
        }
      ],
      "source": [
        "from numpy.ma.core import default_fill_value\n",
        "\n",
        "from pyspark.sql.functions import month\n",
        "from pyspark.sql.functions import to_date\n",
        " \n",
        "df_month = df_date.withColumn('date',month(df_date.date))\n",
        "df_month.show()"
      ]
    },
    {
      "cell_type": "code",
      "execution_count": null,
      "id": "2c5ae510",
      "metadata": {
        "id": "2c5ae510",
        "outputId": "4cb0202a-e1eb-4c66-e31c-3ebf52634968"
      },
      "outputs": [
        {
          "name": "stdout",
          "output_type": "stream",
          "text": [
            "+----+-----+\n",
            "|date|count|\n",
            "+----+-----+\n",
            "|   1|  849|\n",
            "|   2|  853|\n",
            "|   3|  938|\n",
            "|   4|  678|\n",
            "|   5|  935|\n",
            "|   6|  821|\n",
            "|   7|  652|\n",
            "|   8|  797|\n",
            "|   9|  758|\n",
            "|  10|  838|\n",
            "|  11|  682|\n",
            "|  12|  850|\n",
            "+----+-----+\n",
            "\n"
          ]
        }
      ],
      "source": [
        "from pyspark.sql.functions import sum, col, desc, asc\n",
        "\n",
        "df_mon=df_month.groupBy('date').count().orderBy('count').sort(asc(\"date\"))\n",
        "df_mon.show()"
      ]
    },
    {
      "cell_type": "code",
      "execution_count": null,
      "id": "74b91971",
      "metadata": {
        "id": "74b91971",
        "outputId": "a79e9400-340e-4fb5-8361-19649c509660"
      },
      "outputs": [
        {
          "name": "stdout",
          "output_type": "stream",
          "text": [
            "+----+\n",
            "|date|\n",
            "+----+\n",
            "|   1|\n",
            "|   2|\n",
            "|   3|\n",
            "|   4|\n",
            "|   5|\n",
            "|   6|\n",
            "|   7|\n",
            "|   8|\n",
            "|   9|\n",
            "|  10|\n",
            "|  11|\n",
            "|  12|\n",
            "+----+\n",
            "\n"
          ]
        }
      ],
      "source": [
        "dd = df_mon.select(df_mon.columns[0])\n",
        "dd.show()"
      ]
    },
    {
      "cell_type": "code",
      "execution_count": null,
      "id": "6033e5d7",
      "metadata": {
        "id": "6033e5d7",
        "outputId": "3cae6a21-951d-4849-af96-21933739b561"
      },
      "outputs": [
        {
          "name": "stdout",
          "output_type": "stream",
          "text": [
            "+-----+\n",
            "|count|\n",
            "+-----+\n",
            "|  849|\n",
            "|  853|\n",
            "|  938|\n",
            "|  678|\n",
            "|  935|\n",
            "|  821|\n",
            "|  652|\n",
            "|  797|\n",
            "|  758|\n",
            "|  838|\n",
            "|  682|\n",
            "|  850|\n",
            "+-----+\n",
            "\n"
          ]
        }
      ],
      "source": [
        "dc = df_mon.select(df_mon.columns[1])\n",
        "dc.show()"
      ]
    },
    {
      "cell_type": "code",
      "execution_count": null,
      "id": "529cf60d",
      "metadata": {
        "id": "529cf60d",
        "outputId": "1941da32-12a8-45dc-a4a5-d519a078af32"
      },
      "outputs": [
        {
          "name": "stdout",
          "output_type": "stream",
          "text": [
            "+-------+--------------+--------------+--------+--------------------+--------------------+-----+---------------------+-----+------------------------------+---------+\n",
            "|    amt|      category|          city|is_fraud|                 job|            merchant|state|trans_date_trans_time|  zip|Category of transaction amount|     date|\n",
            "+-------+--------------+--------------+--------+--------------------+--------------------+-----+---------------------+-----+------------------------------+---------+\n",
            "|1128.26|  shopping_net|Denham Springs|       1|           Herbalist|     fraud_Kuhic LLC|   LA|  2020-06-21 23:21:44|70726|          Between 500 and 1500|     June|\n",
            "| 576.18| entertainment|           Jay|       1|Higher education ...|   fraud_Reichel Inc|   FL|  2020-08-04 01:00:08|32565|                    under 1000|   August|\n",
            "|  10.51|        travel|     Cottekill|       1|         Comptroller|fraud_McLaughlin,...|   NY|  2020-09-05 22:09:49|12419|                    under 1000|September|\n",
            "| 869.31|      misc_net|       Zavalla|       1| Designer, jewellery|   fraud_Mante Group|   TX|  2020-09-10 02:59:08|75980|                    under 1000|September|\n",
            "| 302.22|   grocery_pos|West Henrietta|       1|Teacher, primary ...|fraud_Heller, Gut...|   NY|  2020-09-12 02:58:20|14586|                    under 1000|September|\n",
            "|1064.72|  shopping_pos|      Kirkwood|       1|Advertising accou...|  fraud_Hickle Group|   NY|  2020-09-24 22:43:25|13795|          Between 500 and 1500|September|\n",
            "|   9.45| gas_transport|       Arcadia|       1| Animal technologist|fraud_Heller-Langosh|   SC|  2020-10-11 00:18:36|29320|                    under 1000|  October|\n",
            "|  312.5|   grocery_pos|        Camden|       1| Colour technologist|fraud_Kovacek, Di...|   TX|  2020-10-15 23:45:07|75934|                    under 1000|  October|\n",
            "|1009.26|  shopping_net|     Goreville|       1|Teacher, secondar...|     fraud_Auer-West|   IL|  2020-10-25 23:54:05|62939|          Between 500 and 1500|  October|\n",
            "| 881.12|  shopping_net|         Craig|       1|Commissioning editor|fraud_Towne, Gree...|   AK|  2020-12-03 23:11:27|99921|                    under 1000| December|\n",
            "| 214.51|          home|         Coyle|       1|Amenity horticult...|fraud_Gaylord-Pow...|   OK|  2020-12-12 23:51:56|73027|                    under 1000| December|\n",
            "|  19.86|health_fitness|         Coyle|       1|Amenity horticult...| fraud_Adams-Barrows|   OK|  2020-12-13 23:47:56|73027|                    under 1000| December|\n",
            "| 358.24|   grocery_pos|   Heart Butte|       1|      Water engineer|fraud_Murray-Smitham|   MT|  2020-12-21 02:21:41|59448|                    under 1000| December|\n",
            "| 944.46|  shopping_net| Edisto Island|       1|Sales professiona...|fraud_Labadie, Tr...|   SC|  2019-01-19 23:40:00|29438|                    under 1000|  January|\n",
            "|   8.94|      misc_pos|        Warren|       1|Magazine features...|fraud_Williamson LLC|   OH|  2019-01-31 16:17:48|44483|                    under 1000|  January|\n",
            "|1015.74|  shopping_net|    Queenstown|       1|Maintenance engineer|fraud_Greenholt, ...|   MD|  2019-03-03 23:57:54|21658|          Between 500 and 1500|    March|\n",
            "|1126.12|  shopping_net|       Ozawkie|       1|    Theatre director|     fraud_Kuhic LLC|   KS|  2019-03-08 23:19:44|66070|          Between 500 and 1500|    March|\n",
            "|  770.8|      misc_net|        Hedley|       1| Early years teacher|fraud_Koelpin and...|   TX|  2019-03-09 00:31:31|79237|                    under 1000|    March|\n",
            "| 339.45|   grocery_pos|Minnesota Lake|       1|         Music tutor|   fraud_Bradtke PLC|   MN|  2019-03-22 00:23:21|56068|                    under 1000|    March|\n",
            "|  21.71| gas_transport|        Sardis|       1|Learning disabili...|   fraud_Schmitt Inc|   AL|  2019-04-12 09:13:39|36775|                    under 1000|    April|\n",
            "+-------+--------------+--------------+--------+--------------------+--------------------+-----+---------------------+-----+------------------------------+---------+\n",
            "only showing top 20 rows\n",
            "\n"
          ]
        }
      ],
      "source": [
        "dict = {1:\"January\", 2:\"February\", 3:\"March\", 4:\"April\", 5:\"May\", 6:\"June\", 7:\"July\", 8:\"August\", 9:\"September\", 10:\"October\", 11:\"November\", 12:\"December\"}\n",
        "\n",
        "from pyspark.sql.functions import udf\n",
        "from pyspark.sql.types import StructType, IntegerType, StringType\n",
        "\n",
        "user_func =  udf (lambda x: dict.get(x), StringType())\n",
        "newdf = df_month.withColumn('date',user_func(df_month.date))\n",
        "\n",
        "newdf.show()"
      ]
    },
    {
      "cell_type": "code",
      "execution_count": null,
      "id": "67091294",
      "metadata": {
        "id": "67091294",
        "outputId": "7dd9b566-4ac8-4d76-e42c-f7b302b1c5ac"
      },
      "outputs": [
        {
          "name": "stdout",
          "output_type": "stream",
          "text": [
            "+---------+-----+\n",
            "|     date|count|\n",
            "+---------+-----+\n",
            "|    April|  678|\n",
            "|   August|  797|\n",
            "| December|  850|\n",
            "| February|  853|\n",
            "|  January|  849|\n",
            "|     July|  652|\n",
            "|     June|  821|\n",
            "|    March|  938|\n",
            "|      May|  935|\n",
            "| November|  682|\n",
            "|  October|  838|\n",
            "|September|  758|\n",
            "+---------+-----+\n",
            "\n"
          ]
        }
      ],
      "source": [
        "month = newdf.groupBy('date').count().orderBy('count').sort(asc(\"date\"))\n",
        "month.show()"
      ]
    },
    {
      "cell_type": "code",
      "execution_count": null,
      "id": "5e3aefe0",
      "metadata": {
        "id": "5e3aefe0",
        "outputId": "b305a592-2bbe-4e3e-9d94-91c144556087"
      },
      "outputs": [
        {
          "data": {
            "text/plain": [
              "<AxesSubplot:xlabel='Month'>"
            ]
          },
          "execution_count": 117,
          "metadata": {},
          "output_type": "execute_result"
        },
        {
          "data": {
            "image/png": "[encoded data removed]",
            "text/plain": [
              "<Figure size 1080x360 with 1 Axes>"
            ]
          },
          "metadata": {
            "needs_background": "light"
          },
          "output_type": "display_data"
        }
      ],
      "source": [
        "month = pd.DataFrame({'Month': ['April', 'August', 'December', 'February', 'January', 'July', 'June', 'March', 'May', 'November', 'October', 'September'], 'Count': [678, 797, 850, 853, 849, 652, 821, 938, 935, 682, 838,758]})\n",
        "month.plot.bar(x='Month', y='Count', figsize=(15,5), color='orange')  \n"
      ]
    },
    {
      "cell_type": "markdown",
      "id": "91530828",
      "metadata": {
        "id": "91530828"
      },
      "source": [
        "# Which merchants are more vulnerable to fraud?"
      ]
    },
    {
      "cell_type": "code",
      "execution_count": null,
      "id": "71982a5e",
      "metadata": {
        "id": "71982a5e"
      },
      "outputs": [],
      "source": [
        "C_df = newdf.groupBy('category').count().orderBy('count')"
      ]
    },
    {
      "cell_type": "code",
      "execution_count": null,
      "id": "da3a5905",
      "metadata": {
        "id": "da3a5905",
        "outputId": "b45b6845-e4dd-48b2-e77f-743e964ee67c"
      },
      "outputs": [
        {
          "name": "stdout",
          "output_type": "stream",
          "text": [
            "+--------------+-----+\n",
            "|      category|count|\n",
            "+--------------+-----+\n",
            "|        travel|  156|\n",
            "|   grocery_net|  175|\n",
            "|health_fitness|  185|\n",
            "|   food_dining|  205|\n",
            "|          home|  265|\n",
            "| personal_care|  290|\n",
            "| entertainment|  292|\n",
            "|     kids_pets|  304|\n",
            "|      misc_pos|  322|\n",
            "| gas_transport|  772|\n",
            "|  shopping_pos| 1056|\n",
            "|      misc_net| 1182|\n",
            "|  shopping_net| 2219|\n",
            "|   grocery_pos| 2228|\n",
            "+--------------+-----+\n",
            "\n"
          ]
        }
      ],
      "source": [
        "C_df.show()"
      ]
    },
    {
      "cell_type": "code",
      "execution_count": null,
      "id": "bb39f25c",
      "metadata": {
        "id": "bb39f25c",
        "outputId": "5f3f786c-6c32-43dd-fdb9-da5a8dbb41a3"
      },
      "outputs": [
        {
          "data": {
            "image/png": "[encoded data removed]",
            "text/plain": [
              "<Figure size 864x864 with 1 Axes>"
            ]
          },
          "metadata": {},
          "output_type": "display_data"
        }
      ],
      "source": [
        "y = np.array([156, 175, 185, 205, 265, 290, 292, 304, 322, 772, 1056, 1182, 2219, 2228])\n",
        "mylabels = [\"travel\", \"grocery_net\", \"health_fitness\", \"food_dining\", \"home\", \"personal_care\", \"entertainment\", \"kids_pets\", \"misc_pos\", \"gas_transport\", \"shopping_pos\", \"misc_net\", \"shopping_net\", \"grocery_pos\"]\n",
        "plt.pie(y, labels = mylabels, autopct='%1.1f%%')\n",
        "fig = plt.gcf()\n",
        "fig.set_size_inches(12,12)\n",
        "plt.title(\"Merchant Category with High Fraud Transactions\")\n",
        "plt.show() "
      ]
    },
    {
      "cell_type": "markdown",
      "id": "2be7b40c",
      "metadata": {
        "id": "2be7b40c"
      },
      "source": [
        "# Which location has the highest number of fraud transactions?"
      ]
    },
    {
      "cell_type": "code",
      "execution_count": null,
      "id": "cb6395c2",
      "metadata": {
        "id": "cb6395c2"
      },
      "outputs": [],
      "source": [
        "df_new = Fraud_df.toPandas()"
      ]
    },
    {
      "cell_type": "code",
      "execution_count": null,
      "id": "7ba1a418",
      "metadata": {
        "id": "7ba1a418",
        "outputId": "1eb0680a-5212-4133-d8f1-92710d99d550"
      },
      "outputs": [
        {
          "data": {
            "image/png": "[encoded data removed]",
            "text/plain": [
              "<Figure size 1800x1080 with 1 Axes>"
            ]
          },
          "metadata": {
            "needs_background": "light"
          },
          "output_type": "display_data"
        }
      ],
      "source": [
        "plt.figure(figsize = (25,15))\n",
        "sns.barplot(x='state', y = 'amt', data=df_new)\n",
        "plt.title(\"State with highest fraud transactions\")\n",
        "plt.show()"
      ]
    },
    {
      "cell_type": "code",
      "execution_count": null,
      "id": "ad32c683",
      "metadata": {
        "id": "ad32c683"
      },
      "outputs": [],
      "source": [
        "c = [\"_c0\",'cc_num','first','last','gender','city_pop','dob','Category of transaction amount']\n",
        "fraud = fraud.select([column for column in fraud.columns if column not in c])"
      ]
    },
    {
      "cell_type": "code",
      "execution_count": null,
      "id": "3947ed55",
      "metadata": {
        "id": "3947ed55",
        "outputId": "e4ec7d1a-6320-428e-9799-6d700c7e44e7"
      },
      "outputs": [
        {
          "name": "stdout",
          "output_type": "stream",
          "text": [
            "root\n",
            " |-- amt: double (nullable = true)\n",
            " |-- category: string (nullable = true)\n",
            " |-- city: string (nullable = true)\n",
            " |-- is_fraud: integer (nullable = true)\n",
            " |-- job: string (nullable = true)\n",
            " |-- merchant: string (nullable = true)\n",
            " |-- state: string (nullable = true)\n",
            " |-- trans_date_trans_time: string (nullable = true)\n",
            " |-- zip: integer (nullable = true)\n",
            "\n"
          ]
        }
      ],
      "source": [
        "fraud.printSchema()   "
      ]
    },
    {
      "cell_type": "markdown",
      "id": "eaf97a70",
      "metadata": {
        "id": "eaf97a70"
      },
      "source": [
        "### Handling Categorical Values using String Indexer\n"
      ]
    },
    {
      "cell_type": "code",
      "execution_count": null,
      "id": "d71f5ace",
      "metadata": {
        "id": "d71f5ace",
        "outputId": "b99feba1-0cc5-465b-f155-d1d559af7db7"
      },
      "outputs": [
        {
          "data": {
            "text/plain": [
              "[DataFrame[amt: double, category: string, city: string, is_fraud: int, job: string, merchant: string, state: string, trans_date_trans_time: string, zip: int],\n",
              " DataFrame[amt: double, category: string, city: string, is_fraud: int, job: string, merchant: string, state: string, trans_date_trans_time: string, zip: int],\n",
              " DataFrame[amt: double, category: string, city: string, is_fraud: int, job: string, merchant: string, state: string, trans_date_trans_time: string, zip: int]]"
            ]
          },
          "execution_count": 125,
          "metadata": {},
          "output_type": "execute_result"
        }
      ],
      "source": [
        "fraud.randomSplit([0.6, 0.2, 0.2])"
      ]
    },
    {
      "cell_type": "code",
      "execution_count": null,
      "id": "90ab2919",
      "metadata": {
        "id": "90ab2919"
      },
      "outputs": [],
      "source": [
        "new_data_1, new_data_2 = fraud.randomSplit([0.6, 0.4], seed = 2018)"
      ]
    },
    {
      "cell_type": "code",
      "execution_count": null,
      "id": "e29386a5",
      "metadata": {
        "id": "e29386a5",
        "outputId": "79548dbd-d138-4fdb-cfcd-3495e73fbf79"
      },
      "outputs": [
        {
          "data": {
            "text/plain": [
              "1111873"
            ]
          },
          "execution_count": 127,
          "metadata": {},
          "output_type": "execute_result"
        }
      ],
      "source": [
        "new_data_1.count()"
      ]
    },
    {
      "cell_type": "code",
      "execution_count": null,
      "id": "76986c18",
      "metadata": {
        "id": "76986c18",
        "outputId": "baab5cdf-bb9b-4eb2-e32c-129021737947"
      },
      "outputs": [
        {
          "data": {
            "text/plain": [
              "['amt',\n",
              " 'category',\n",
              " 'city',\n",
              " 'is_fraud',\n",
              " 'job',\n",
              " 'merchant',\n",
              " 'state',\n",
              " 'trans_date_trans_time',\n",
              " 'zip']"
            ]
          },
          "execution_count": 128,
          "metadata": {},
          "output_type": "execute_result"
        }
      ],
      "source": [
        "new_data_1.columns"
      ]
    },
    {
      "cell_type": "code",
      "execution_count": null,
      "id": "4429db5b",
      "metadata": {
        "id": "4429db5b",
        "outputId": "182f4533-0b6d-47ac-e413-6e0178518a24"
      },
      "outputs": [
        {
          "name": "stdout",
          "output_type": "stream",
          "text": [
            "+----+--------+-----+--------------+---------+---------+---------+--------------+---------------------------+----------+--------------+-----------+\n",
            "| amt|is_fraud|  zip|merchant_index|job_index|zip_index|amt_index|is_fraud_index|trans_date_trans_time_index|city_index|category_index|state_index|\n",
            "+----+--------+-----+--------------+---------+---------+---------+--------------+---------------------------+----------+--------------+-----------+\n",
            "| 1.0|       0|27807|         567.0|    138.0|    407.0|    899.0|           0.0|                   672860.0|     403.0|          11.0|       12.0|\n",
            "|1.01|       0|35229|         506.0|     29.0|     94.0|     10.0|           0.0|                   444305.0|       0.0|          10.0|        8.0|\n",
            "|1.01|       0|32323|         224.0|     60.0|    119.0|     10.0|           0.0|                   541028.0|     137.0|           3.0|        7.0|\n",
            "|1.01|       0|58765|         677.0|    293.0|    255.0|     10.0|           0.0|                   575267.0|     266.0|          13.0|       34.0|\n",
            "|1.02|       0|39897|         387.0|    134.0|    408.0|      1.0|           0.0|                   241164.0|     404.0|           8.0|       20.0|\n",
            "|1.02|       0| 7208|         653.0|    228.0|    111.0|      1.0|           0.0|                  1069561.0|     130.0|          13.0|       23.0|\n",
            "|1.03|       0|64019|         354.0|    158.0|     17.0|     16.0|           0.0|                   299113.0|      40.0|           8.0|        9.0|\n",
            "|1.03|       0|28073|         285.0|     77.0|     74.0|     16.0|           0.0|                   730553.0|      97.0|           5.0|       12.0|\n",
            "|1.04|       0|33040|         493.0|     89.0|     80.0|     13.0|           0.0|                   924770.0|     105.0|          10.0|        7.0|\n",
            "|1.05|       0|29860|         309.0|     43.0|    303.0|     18.0|           0.0|                   941270.0|     312.0|           6.0|       14.0|\n",
            "+----+--------+-----+--------------+---------+---------+---------+--------------+---------------------------+----------+--------------+-----------+\n",
            "only showing top 10 rows\n",
            "\n"
          ]
        }
      ],
      "source": [
        "from pyspark.ml import Pipeline\n",
        "from pyspark.ml.feature import StringIndexer\n",
        "\n",
        "indexers = [StringIndexer(inputCol=column, outputCol=column+\"_index\").setHandleInvalid(\"skip\").fit(new_data_1) for column in list(set(new_data_1.columns)) ]\n",
        "  \n",
        "pipeline = Pipeline(stages=indexers)\n",
        "\n",
        "df_r = pipeline.fit(new_data_1).transform(new_data_1)\n",
        "\n",
        "cols=(\"merchant\",\"category\",\"first\",\"last\",\"gender\",\"city\",\"state\",\"job\",\"dob\",\"trans_date_trans_time\",\"Category of transaction amount\")\n",
        "df_num=df_r.drop(*cols)\n",
        "\n",
        "df_num.show(n=10)"
      ]
    },
    {
      "cell_type": "markdown",
      "id": "ef38d23b",
      "metadata": {
        "id": "ef38d23b"
      },
      "source": [
        "### Machine Learning Algorithms"
      ]
    },
    {
      "cell_type": "code",
      "execution_count": null,
      "id": "5968fdff",
      "metadata": {
        "id": "5968fdff"
      },
      "outputs": [],
      "source": [
        "from pyspark.ml.feature import VectorAssembler\n",
        "\n",
        "vecAssembler1 = VectorAssembler(inputCols=[\"merchant_index\",\"amt_index\",\"category_index\",\"state_index\"], outputCol=\"features\")\n",
        "\n",
        "vec2 = vecAssembler1.setHandleInvalid(\"skip\").transform(df_num)"
      ]
    },
    {
      "cell_type": "markdown",
      "id": "91afd824",
      "metadata": {
        "id": "91afd824"
      },
      "source": [
        "### Splitting the data into test and train"
      ]
    },
    {
      "cell_type": "code",
      "execution_count": null,
      "id": "84ffc92c",
      "metadata": {
        "id": "84ffc92c"
      },
      "outputs": [],
      "source": [
        "splits = vec2.randomSplit([0.8,0.2], 42)    \n",
        "train_df2 = splits[0]\n",
        "test_df2 = splits[1]"
      ]
    },
    {
      "cell_type": "markdown",
      "id": "ad0ac6b4",
      "metadata": {
        "id": "ad0ac6b4"
      },
      "source": [
        "### LogisticRegression"
      ]
    },
    {
      "cell_type": "code",
      "execution_count": null,
      "id": "ed287074",
      "metadata": {
        "id": "ed287074"
      },
      "outputs": [],
      "source": [
        "from pyspark.ml.evaluation import MulticlassClassificationEvaluator\n",
        "from pyspark.ml.evaluation import BinaryClassificationEvaluator"
      ]
    },
    {
      "cell_type": "code",
      "execution_count": null,
      "id": "204c6189",
      "metadata": {
        "id": "204c6189",
        "outputId": "ad87dd3c-4d1e-4086-c50e-de675e529a79"
      },
      "outputs": [
        {
          "name": "stdout",
          "output_type": "stream",
          "text": [
            "Accuracy of Logistic Regression Model: 0.8543367392521881\n"
          ]
        }
      ],
      "source": [
        "from pyspark.ml.classification import LogisticRegression\n",
        "lr=LogisticRegression(featuresCol='features',labelCol='is_fraud_index', maxIter=5)\n",
        "lrModel = lr.fit(train_df2)\n",
        "evaluator = BinaryClassificationEvaluator(labelCol=\"is_fraud_index\")\n",
        "logpred = lrModel.transform(test_df2)\n",
        "print('Accuracy of Logistic Regression Model:', evaluator.evaluate(logpred))"
      ]
    },
    {
      "cell_type": "markdown",
      "id": "25e76a48",
      "metadata": {
        "id": "25e76a48"
      },
      "source": [
        "### DecisionTreeClassifier"
      ]
    },
    {
      "cell_type": "code",
      "execution_count": null,
      "id": "0bab628c",
      "metadata": {
        "id": "0bab628c",
        "outputId": "abd07219-595f-49e8-e066-84e5d5a89d8b"
      },
      "outputs": [
        {
          "name": "stdout",
          "output_type": "stream",
          "text": [
            "Accuracy of Decision Tree Model: 0.7914199861911118\n"
          ]
        }
      ],
      "source": [
        "from pyspark.ml.classification import DecisionTreeClassifier\n",
        "dt = DecisionTreeClassifier(featuresCol = 'features', labelCol = 'is_fraud_index', impurity = \"gini\",maxDepth = 5, maxBins=100000)\n",
        "dtModel = dt.fit(train_df2)\n",
        "evaluator1 = BinaryClassificationEvaluator(labelCol=\"is_fraud_index\")\n",
        "predictions = dtModel.transform(test_df2)\n",
        "print(\"Accuracy of Decision Tree Model: \" + str(evaluator1.evaluate(predictions)))"
      ]
    },
    {
      "cell_type": "markdown",
      "id": "2de8af5a",
      "metadata": {
        "id": "2de8af5a"
      },
      "source": [
        "### NaiveBayes"
      ]
    },
    {
      "cell_type": "code",
      "execution_count": null,
      "id": "7f08e2fe",
      "metadata": {
        "id": "7f08e2fe",
        "outputId": "28c65978-2604-4b97-c337-aa45db4f6e68"
      },
      "outputs": [
        {
          "name": "stdout",
          "output_type": "stream",
          "text": [
            "Accuracy of Naive Bayes Model:0.8276555047392877\n"
          ]
        }
      ],
      "source": [
        "from pyspark.ml.classification import NaiveBayes\n",
        "nb = NaiveBayes(modelType=\"multinomial\", labelCol=\"is_fraud_index\")\n",
        "nbmodel = nb.fit(train_df2)\n",
        "predictions = nbmodel.transform(test_df2)\n",
        "evaluator2 = MulticlassClassificationEvaluator(labelCol=\"is_fraud_index\")\n",
        "nbaccuracy = evaluator2.evaluate(predictions)\n",
        "print(\"Accuracy of Naive Bayes Model:\" + str(nbaccuracy))"
      ]
    },
    {
      "cell_type": "markdown",
      "source": [
        "**Among the three models Logistic Regression is the best model based on the accuracy metrics shown above for choosen dataset.**"
      ],
      "metadata": {
        "id": "CVlNpLAgVjuF"
      },
      "id": "CVlNpLAgVjuF"
    }
  ],
  "metadata": {
    "kernelspec": {
      "display_name": "Python 3 (ipykernel)",
      "language": "python",
      "name": "python3"
    },
    "language_info": {
      "codemirror_mode": {
        "name": "ipython",
        "version": 3
      },
      "file_extension": ".py",
      "mimetype": "text/x-python",
      "name": "python",
      "nbconvert_exporter": "python",
      "pygments_lexer": "ipython3",
      "version": "3.9.7"
    },
    "colab": {
      "name": "creditcard_Kavuri_Choday_Basavanna.ipynb",
      "provenance": [],
      "collapsed_sections": []
    }
  },
  "nbformat": 4,
  "nbformat_minor": 5
}